{
 "cells": [
  {
   "cell_type": "code",
   "execution_count": 1,
   "metadata": {},
   "outputs": [],
   "source": [
    "%matplotlib inline\n",
    "%load_ext autoreload\n",
    "%autoreload 2\n",
    "\n",
    "#%config InlineBackend.figure_format = 'svg'\n",
    "#%config InlineBackend.figure_format = 'pdf'"
   ]
  },
  {
   "cell_type": "code",
   "execution_count": 32,
   "metadata": {},
   "outputs": [],
   "source": [
    "import kmod\n",
    "import kmod.glo as glo\n",
    "import kmod.plot as plot\n",
    "import kmod.util as util\n",
    "import kmod.kernel as kernel\n",
    "\n",
    "import matplotlib\n",
    "import matplotlib.pyplot as plt\n",
    "import os\n",
    "import numpy as np\n",
    "import scipy.stats as stats\n",
    "import torch\n",
    "import torch.autograd\n",
    "import torch.nn.functional as F\n",
    "import torchvision\n",
    "import torchvision.transforms as transforms\n",
    "from kmod.gan_ume_opt import ume_power_criterion"
   ]
  },
  {
   "cell_type": "code",
   "execution_count": 3,
   "metadata": {},
   "outputs": [],
   "source": [
    "# font options\n",
    "font = {\n",
    "    #'family' : 'normal',\n",
    "    #'weight' : 'bold',\n",
    "    'size'   : 18\n",
    "}\n",
    "\n",
    "plt.rc('font', **font)\n",
    "plt.rc('lines', linewidth=2)\n",
    "matplotlib.rcParams['pdf.fonttype'] = 42\n",
    "matplotlib.rcParams['ps.fonttype'] = 42"
   ]
  },
  {
   "cell_type": "code",
   "execution_count": 4,
   "metadata": {},
   "outputs": [],
   "source": [
    "# set this to False to avoid using a GPU\n",
    "use_cuda = True and torch.cuda.is_available()\n",
    "device = torch.device(\"cuda\" if use_cuda else \"cpu\")\n",
    "torch.set_default_tensor_type(torch.cuda.FloatTensor if use_cuda else torch.FloatTensor)"
   ]
  },
  {
   "cell_type": "markdown",
   "metadata": {},
   "source": [
    "## Load a trained classifier"
   ]
  },
  {
   "cell_type": "code",
   "execution_count": 5,
   "metadata": {},
   "outputs": [
    {
     "name": "stdout",
     "output_type": "stream",
     "text": [
      "Shared resource path at: /nfs/data3/heishiro/Gdrive/kmod_share/\n",
      "Model folder: /nfs/data3/heishiro/Gdrive/kmod_share/prob_models/mnist_cnn\n",
      "Model file:  mnist_cnn_ep20_s1.pt\n"
     ]
    }
   ],
   "source": [
    "# load a model from the shared folder\n",
    "shared_resource_path = glo.shared_resource_folder()\n",
    "model_folder = glo.shared_resource_folder('prob_models', 'mnist_cnn')\n",
    "epochs = 20\n",
    "seed = 1\n",
    "model_fname = 'mnist_cnn_ep{}_s{}.pt'.format(epochs, seed)\n",
    "model_fpath = os.path.join(model_folder, model_fname)\n",
    "\n",
    "print('Shared resource path at: {}'.format(shared_resource_path))\n",
    "print('Model folder: {}'.format(model_folder))\n",
    "print('Model file: ', model_fname)"
   ]
  },
  {
   "cell_type": "code",
   "execution_count": 6,
   "metadata": {},
   "outputs": [
    {
     "data": {
      "text/plain": [
       "MnistClassifier(\n",
       "  (conv1): Conv2d(1, 10, kernel_size=(5, 5), stride=(1, 1))\n",
       "  (conv2): Conv2d(10, 20, kernel_size=(5, 5), stride=(1, 1))\n",
       "  (conv2_drop): Dropout2d(p=0.5)\n",
       "  (fc1): Linear(in_features=320, out_features=50, bias=True)\n",
       "  (fc2): Linear(in_features=50, out_features=10, bias=True)\n",
       ")"
      ]
     },
     "metadata": {},
     "output_type": "display_data"
    }
   ],
   "source": [
    "from kmod.mnist.classify import MnistClassifier\n",
    "# load option depends on whether GPU is used\n",
    "load_options = {} if use_cuda else {'map_location': lambda storage, loc: storage} \n",
    "classifier = MnistClassifier.load(model_fpath, **load_options)\n",
    "# evaluation mode\n",
    "classifier = classifier.eval().to(device)\n",
    "# classifier is a torch.nn.Module\n",
    "display(classifier)"
   ]
  },
  {
   "cell_type": "code",
   "execution_count": 7,
   "metadata": {},
   "outputs": [],
   "source": [
    "def norm(x, loc, scale):\n",
    "    return (x - loc) / scale\n",
    "\n",
    "\n",
    "def mnist_norm(x):\n",
    "    return norm(x, 0.1307, 0.3081)\n",
    "\n",
    "\n",
    "def trans_dcgan(x):\n",
    "    y = norm(x, -1.0, 2.0)\n",
    "    return mnist_norm(y)\n",
    "\n",
    "\n",
    "def trans_vae(x):\n",
    "    return mnist_norm(x).view(-1, 1, 28, 28)"
   ]
  },
  {
   "cell_type": "code",
   "execution_count": 8,
   "metadata": {},
   "outputs": [],
   "source": [
    "def vae_sample(vae, n):\n",
    "    sample = torch.randn(n, 20).to(device)\n",
    "    gen_imgs = vae.decode(sample)\n",
    "    #bern = torch.distributions.Bernoulli(probs=gen_imgs)\n",
    "    #return bern.sample().view(n, -1, 28, 28)\n",
    "    return gen_imgs.detach().view(n, -1, 28, 28)"
   ]
  },
  {
   "cell_type": "markdown",
   "metadata": {},
   "source": [
    "## Load DCGAN"
   ]
  },
  {
   "cell_type": "code",
   "execution_count": 9,
   "metadata": {},
   "outputs": [
    {
     "name": "stdout",
     "output_type": "stream",
     "text": [
      "Shared resource path at: /nfs/data3/heishiro/Gdrive/kmod_share/\n",
      "Model folder: /nfs/data3/heishiro/Gdrive/kmod_share/prob_models/mnist_dcgan\n",
      "Model file:  mnist_dcgan_ep50_bs64.pt\n"
     ]
    }
   ],
   "source": [
    "# load a model from the shared folder\n",
    "model_folder = glo.shared_resource_folder('prob_models', 'mnist_dcgan')\n",
    "epochs = 50\n",
    "batch_size = 64\n",
    "model_fname = 'mnist_dcgan_ep{}_bs{}.pt'.format(epochs, batch_size)\n",
    "model_fpath = os.path.join(model_folder, model_fname)\n",
    "print('Shared resource path at: {}'.format(shared_resource_path))\n",
    "print('Model folder: {}'.format(model_folder))\n",
    "print('Model file: ', model_fname)"
   ]
  },
  {
   "cell_type": "code",
   "execution_count": 10,
   "metadata": {},
   "outputs": [],
   "source": [
    "import kmod.mnist.dcgan as mnist_dcgan\n",
    "import kmod.net as net\n",
    "from kmod.mnist.dcgan import DCGAN\n",
    "from kmod.mnist.dcgan import Generator\n",
    "# load the generator of type kmod.gen.PTNoiseTransformer\n",
    "dcgan = net.SerializableModule.load(model_fpath)"
   ]
  },
  {
   "cell_type": "code",
   "execution_count": 11,
   "metadata": {},
   "outputs": [
    {
     "name": "stderr",
     "output_type": "stream",
     "text": [
      "/nfs/nhome/live/heishirok/anaconda3/envs/clone_base/lib/python3.6/site-packages/torch/nn/modules/upsampling.py:122: UserWarning: nn.Upsampling is deprecated. Use nn.functional.interpolate instead.\n",
      "  warnings.warn(\"nn.Upsampling is deprecated. Use nn.functional.interpolate instead.\")\n"
     ]
    }
   ],
   "source": [
    "n_gen = 10000\n",
    "gen_imgs_p = dcgan.sample(n_gen)"
   ]
  },
  {
   "cell_type": "code",
   "execution_count": 12,
   "metadata": {},
   "outputs": [],
   "source": [
    "pred_results = []\n",
    "batch_size = 100\n",
    "for i in range(0, n_gen, batch_size):\n",
    "    x = gen_imgs_p[i:i+batch_size]\n",
    "    x = trans_dcgan(x)\n",
    "    pred = torch.argmax(classifier(x), dim=1)\n",
    "    pred_results.append(pred)\n",
    "pred_results_p = torch.cat(pred_results)\n",
    "pred_num_p = []\n",
    "for i in range(10):\n",
    "    pred_num_p.append(torch.sum(pred_results_p==i).item())"
   ]
  },
  {
   "cell_type": "markdown",
   "metadata": {},
   "source": [
    "## Load VAE"
   ]
  },
  {
   "cell_type": "code",
   "execution_count": 13,
   "metadata": {},
   "outputs": [],
   "source": [
    "from kmod.mnist.vae import VAE\n",
    "epochs = 20\n",
    "model_folder = glo.shared_resource_folder('prob_models', 'mnist_vae', str(epochs))\n",
    "model_fname = 'VAE.pkl'.format(epochs, batch_size)\n",
    "model_fpath = os.path.join(model_folder, model_fname)\n",
    "vae = VAE()\n",
    "vae.load_state_dict(torch.load(model_fpath))"
   ]
  },
  {
   "cell_type": "code",
   "execution_count": 14,
   "metadata": {},
   "outputs": [],
   "source": [
    "gen_imgs_q = torch.tensor(vae_sample(vae, n_gen))"
   ]
  },
  {
   "cell_type": "code",
   "execution_count": 15,
   "metadata": {},
   "outputs": [],
   "source": [
    "pred_results = []\n",
    "batch_size = 100\n",
    "for i in range(0, n_gen, batch_size):\n",
    "    x = gen_imgs_q[i:i+batch_size]\n",
    "    x = trans_vae(x)\n",
    "    pred = torch.argmax(classifier(x), dim=1)\n",
    "    pred_results.append(pred)\n",
    "pred_results_q = torch.cat(pred_results)"
   ]
  },
  {
   "cell_type": "code",
   "execution_count": 16,
   "metadata": {},
   "outputs": [],
   "source": [
    "pred_num_q = []\n",
    "for i in range(10):\n",
    "    pred_num_q.append(torch.sum(pred_results_q==i).item())"
   ]
  },
  {
   "cell_type": "code",
   "execution_count": 17,
   "metadata": {},
   "outputs": [
    {
     "data": {
      "text/plain": [
       "<Container object of 10 artists>"
      ]
     },
     "execution_count": 17,
     "metadata": {},
     "output_type": "execute_result"
    },
    {
     "data": {
      "image/png": "[encoded data removed]",
      "text/plain": [
       "<matplotlib.figure.Figure at 0x7f34ae7960f0>"
      ]
     },
     "metadata": {},
     "output_type": "display_data"
    }
   ],
   "source": [
    "plt.xlabel('class')\n",
    "plt.ylabel('pred[%]')\n",
    "plt.bar(np.arange(10), pred_num_p/np.sum(pred_num_p)*100, alpha=0.5)"
   ]
  },
  {
   "cell_type": "code",
   "execution_count": 18,
   "metadata": {},
   "outputs": [
    {
     "data": {
      "text/plain": [
       "<Container object of 10 artists>"
      ]
     },
     "execution_count": 18,
     "metadata": {},
     "output_type": "execute_result"
    },
    {
     "data": {
      "image/png": "[encoded data removed]",
      "text/plain": [
       "<matplotlib.figure.Figure at 0x7f34a217cc88>"
      ]
     },
     "metadata": {},
     "output_type": "display_data"
    }
   ],
   "source": [
    "plt.xlabel('class')\n",
    "plt.ylabel('pred[%]')\n",
    "plt.bar(np.arange(10), pred_num_q/np.sum(pred_num_q)*100, alpha=0.5)"
   ]
  },
  {
   "cell_type": "code",
   "execution_count": 19,
   "metadata": {},
   "outputs": [
    {
     "data": {
      "text/plain": [
       "<matplotlib.legend.Legend at 0x7f34a203b978>"
      ]
     },
     "execution_count": 19,
     "metadata": {},
     "output_type": "execute_result"
    },
    {
     "data": {
      "image/png": "[encoded data removed]",
      "text/plain": [
       "<matplotlib.figure.Figure at 0x7f34a205b5f8>"
      ]
     },
     "metadata": {},
     "output_type": "display_data"
    }
   ],
   "source": [
    "fig, ax = plt.subplots()\n",
    "index = np.arange(10)\n",
    "bar_width = 0.35\n",
    "opacity = 0.8\n",
    "pred_per_p = pred_num_p / np.sum(pred_num_p) * 100\n",
    "pred_per_q = pred_num_q / np.sum(pred_num_q) * 100\n",
    "\n",
    "rects1 = plt.bar(index, pred_per_p, bar_width, alpha=opacity,\n",
    "                color='g', label='dcgan')\n",
    "rects2 = plt.bar(index+bar_width, pred_per_q, bar_width, alpha=opacity,\n",
    "                color='b', label='vae')\n",
    "plt.xlabel('class')\n",
    "plt.ylabel('pred[%]')\n",
    "ax.legend(loc='right', bbox_to_anchor=(1.5, 0.25))\n"
   ]
  },
  {
   "cell_type": "code",
   "execution_count": 20,
   "metadata": {},
   "outputs": [],
   "source": [
    "## Power criterion bar chart"
   ]
  },
  {
   "cell_type": "code",
   "execution_count": 21,
   "metadata": {},
   "outputs": [],
   "source": [
    "def extractor(imgs):\n",
    "    \"\"\"\n",
    "    Feature extractor\n",
    "    \"\"\"\n",
    "    self = classifier\n",
    "    x = imgs\n",
    "    x = F.relu(F.max_pool2d(self.conv1(x), 2))\n",
    "    x = F.relu(F.max_pool2d(self.conv2(x), 2))\n",
    "    x = x.view(-1, 320)\n",
    "    return x\n",
    "\n",
    "def extractor_cls(imgs):\n",
    "    self = classifier\n",
    "    x = imgs\n",
    "    x = F.relu(F.max_pool2d(self.conv1(x), 2))\n",
    "    x = F.relu(F.max_pool2d(self.conv2_drop(self.conv2(x)), 2))\n",
    "    x = x.view(-1, 320)\n",
    "    x = F.relu(self.fc1(x))\n",
    "    return x"
   ]
  },
  {
   "cell_type": "code",
   "execution_count": 22,
   "metadata": {},
   "outputs": [],
   "source": [
    "featurizer = extractor_cls\n",
    "# load MNIST data\n",
    "mnist_folder = glo.data_file('mnist')\n",
    "mnist_dataset = torchvision.datasets.MNIST(mnist_folder, train=False, \n",
    "                        transform=transforms.Compose([\n",
    "                           transforms.ToTensor(),\n",
    "                           transforms.Normalize((0.1307,), (0.3081,))\n",
    "                       ]))"
   ]
  },
  {
   "cell_type": "code",
   "execution_count": 34,
   "metadata": {},
   "outputs": [],
   "source": [
    "num_sample = 2000\n",
    "num_classes = 10\n",
    "J = 30\n",
    "reg = 1e-4\n",
    "n_sample_per_class = num_sample // num_classes\n",
    "len_data = len(mnist_dataset)\n",
    "input_Z = []\n",
    "mnist_Y = torch.stack([mnist_dataset[i][1] for i in range(len_data)])\n",
    "mnist_X = torch.stack([mnist_dataset[i][0] for i in range(len_data)])"
   ]
  },
  {
   "cell_type": "code",
   "execution_count": 35,
   "metadata": {},
   "outputs": [],
   "source": [
    "def slice_array(arr, sizes):\n",
    "    if not sizes or sum(sizes) == 0 or len(sizes) == 0:\n",
    "        raise ValueError('sizes cannot be empty. Was {}'.format(sizes))\n",
    "    sub_arrs = []\n",
    "    idx = 0\n",
    "    for i in range(0, len(sizes)):\n",
    "        sub_arrs.append(arr[idx: idx+sizes[i]])\n",
    "        idx += sizes[i]\n",
    "    return sub_arrs"
   ]
  },
  {
   "cell_type": "code",
   "execution_count": 36,
   "metadata": {},
   "outputs": [
    {
     "name": "stderr",
     "output_type": "stream",
     "text": [
      "/nfs/nhome/live/heishirok/anaconda3/envs/clone_base/lib/python3.6/site-packages/torch/nn/modules/upsampling.py:122: UserWarning: nn.Upsampling is deprecated. Use nn.functional.interpolate instead.\n",
      "  warnings.warn(\"nn.Upsampling is deprecated. Use nn.functional.interpolate instead.\")\n"
     ]
    }
   ],
   "source": [
    "num_trials = 100\n",
    "results = np.empty([num_trials, num_classes])\n",
    "\n",
    "for i in range(num_trials):\n",
    "    seed = i\n",
    "    torch.manual_seed(seed)\n",
    "    torch.cuda.manual_seed_all(seed)\n",
    "    X = featurizer(trans_dcgan(dcgan.sample(num_sample)))\n",
    "    Y = featurizer(mnist_norm(vae_sample(vae, num_sample)))\n",
    "    V_list = []\n",
    "    Z_list = []\n",
    "    for j in range(num_classes):\n",
    "        idx = (mnist_Y == j)\n",
    "        rand_idx = util.subsample_ind(len(mnist_Y[idx]), len(mnist_Y[idx]), seed=seed)\n",
    "        Z, V = slice_array(mnist_X[idx][rand_idx], [n_sample_per_class, J]) \n",
    "        Z_list.append(Z)\n",
    "        V_list.append(V)\n",
    "    Z = torch.cat(Z_list).to(device)\n",
    "    Z = featurizer(Z)\n",
    "    \n",
    "    XYZ = np.vstack((X.cpu().data.numpy(), Y.cpu().data.numpy(), Z.cpu().data.numpy()))\n",
    "    med = util.meddistance(XYZ, subsample=1000)\n",
    "    gwidth2 = torch.tensor(med**2, requires_grad=True, device=device)\n",
    "    k = kernel.PTKGauss(gwidth2)\n",
    "    for j in range(num_classes):\n",
    "        V = V_list[j]\n",
    "        V = featurizer(V.to(device))\n",
    "        results[i, j] = ume_power_criterion(X, Y, Z, V, V, k, reg)"
   ]
  },
  {
   "cell_type": "code",
   "execution_count": 37,
   "metadata": {},
   "outputs": [
    {
     "data": {
      "text/plain": [
       "<Container object of 10 artists>"
      ]
     },
     "execution_count": 37,
     "metadata": {},
     "output_type": "execute_result"
    },
    {
     "data": {
      "image/png": "[encoded data removed]",
      "text/plain": [
       "<matplotlib.figure.Figure at 0x7f34a1c2fb00>"
      ]
     },
     "metadata": {},
     "output_type": "display_data"
    }
   ],
   "source": [
    "plt.xlabel('class')\n",
    "plt.ylabel('power criterion')\n",
    "plt.bar(np.arange(10), np.mean(results, 0), alpha=0.5)"
   ]
  }
 ],
 "metadata": {
  "kernelspec": {
   "display_name": "Python 3",
   "language": "python",
   "name": "python3"
  },
  "language_info": {
   "codemirror_mode": {
    "name": "ipython",
    "version": 3
   },
   "file_extension": ".py",
   "mimetype": "text/x-python",
   "name": "python",
   "nbconvert_exporter": "python",
   "pygments_lexer": "ipython3",
   "version": "3.6.5"
  }
 },
 "nbformat": 4,
 "nbformat_minor": 2
}
