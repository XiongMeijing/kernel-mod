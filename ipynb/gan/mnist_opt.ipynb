{
 "cells": [
  {
   "cell_type": "code",
   "execution_count": 1,
   "metadata": {},
   "outputs": [],
   "source": [
    "%matplotlib inline\n",
    "%load_ext autoreload\n",
    "%autoreload 2\n",
    "\n",
    "#%config InlineBackend.figure_format = 'svg'\n",
    "#%config InlineBackend.figure_format = 'pdf'"
   ]
  },
  {
   "cell_type": "code",
   "execution_count": 2,
   "metadata": {},
   "outputs": [],
   "source": [
    "import kmod\n",
    "import kmod.glo as glo\n",
    "import kmod.plot as plot\n",
    "import kmod.kernel as kernel\n",
    "from kmod import util\n",
    "\n",
    "import matplotlib\n",
    "import matplotlib.pyplot as plt\n",
    "import os\n",
    "import numpy as np\n",
    "import scipy.stats as stats\n",
    "import torch\n",
    "import torch.autograd\n",
    "import torch.nn.functional as F\n",
    "import torchvision\n",
    "import torchvision.transforms as transforms\n",
    "\n",
    "from torch import optim\n",
    "from torch import nn\n",
    "from kmod.gan_ume_opt import ume_power_criterion"
   ]
  },
  {
   "cell_type": "code",
   "execution_count": 3,
   "metadata": {},
   "outputs": [],
   "source": [
    "# font options\n",
    "font = {\n",
    "    #'family' : 'normal',\n",
    "    #'weight' : 'bold',\n",
    "    'size'   : 18\n",
    "}\n",
    "\n",
    "plt.rc('font', **font)\n",
    "plt.rc('lines', linewidth=2)\n",
    "matplotlib.rcParams['pdf.fonttype'] = 42\n",
    "matplotlib.rcParams['ps.fonttype'] = 42"
   ]
  },
  {
   "cell_type": "code",
   "execution_count": 4,
   "metadata": {},
   "outputs": [],
   "source": [
    "# set this to False to avoid using a GPU\n",
    "use_cuda = True and torch.cuda.is_available()\n",
    "device = torch.device(\"cuda\" if use_cuda else \"cpu\")\n",
    "torch.set_default_tensor_type(torch.cuda.FloatTensor if use_cuda else torch.FloatTensor)"
   ]
  },
  {
   "cell_type": "code",
   "execution_count": 5,
   "metadata": {},
   "outputs": [],
   "source": [
    "seed = 13\n",
    "torch.manual_seed(seed)\n",
    "torch.cuda.manual_seed_all(seed)\n",
    "np.random.seed(13)"
   ]
  },
  {
   "cell_type": "markdown",
   "metadata": {},
   "source": [
    "# Load feature extractor"
   ]
  },
  {
   "cell_type": "code",
   "execution_count": 6,
   "metadata": {},
   "outputs": [
    {
     "name": "stdout",
     "output_type": "stream",
     "text": [
      "Shared resource path at: /nfs/data3/heishiro/Gdrive/kmod_share/\n",
      "Model folder: /nfs/data3/heishiro/Gdrive/kmod_share/prob_models/mnist_cnn\n",
      "Model file:  mnist_cnn_ep20_s1.pt\n"
     ]
    }
   ],
   "source": [
    "# load a model from the shared folder\n",
    "shared_resource_path = glo.shared_resource_folder()\n",
    "model_folder = glo.shared_resource_folder('prob_models', 'mnist_cnn')\n",
    "epochs = 20\n",
    "seed = 1\n",
    "model_fname = 'mnist_cnn_ep{}_s{}.pt'.format(epochs, seed)\n",
    "model_fpath = os.path.join(model_folder, model_fname)\n",
    "\n",
    "print('Shared resource path at: {}'.format(shared_resource_path))\n",
    "print('Model folder: {}'.format(model_folder))\n",
    "print('Model file: ', model_fname)"
   ]
  },
  {
   "cell_type": "code",
   "execution_count": 7,
   "metadata": {},
   "outputs": [
    {
     "data": {
      "text/plain": [
       "MnistClassifier(\n",
       "  (conv1): Conv2d(1, 10, kernel_size=(5, 5), stride=(1, 1))\n",
       "  (conv2): Conv2d(10, 20, kernel_size=(5, 5), stride=(1, 1))\n",
       "  (conv2_drop): Dropout2d(p=0.5)\n",
       "  (fc1): Linear(in_features=320, out_features=50, bias=True)\n",
       "  (fc2): Linear(in_features=50, out_features=10, bias=True)\n",
       ")"
      ]
     },
     "metadata": {},
     "output_type": "display_data"
    }
   ],
   "source": [
    "from kmod.mnist.classify import MnistClassifier\n",
    "# load option depends on whether GPU is used\n",
    "load_options = {} if use_cuda else {'map_location': lambda storage, loc: storage} \n",
    "classifier = MnistClassifier.load(model_fpath, **load_options)\n",
    "# evaluation mode\n",
    "classifier = classifier.eval().to(device)\n",
    "# classifier is a torch.nn.Module\n",
    "display(classifier)"
   ]
  },
  {
   "cell_type": "code",
   "execution_count": 8,
   "metadata": {},
   "outputs": [],
   "source": [
    "def extractor(imgs):\n",
    "    \"\"\"\n",
    "    Feature extractor\n",
    "    \"\"\"\n",
    "    self = classifier\n",
    "    x = imgs\n",
    "    x = F.relu(F.max_pool2d(self.conv1(x), 2))\n",
    "    x = F.relu(F.max_pool2d(self.conv2(x), 2))\n",
    "    x = x.view(-1, 320)\n",
    "    return x"
   ]
  },
  {
   "cell_type": "markdown",
   "metadata": {},
   "source": [
    "## Load generators"
   ]
  },
  {
   "cell_type": "markdown",
   "metadata": {},
   "source": [
    "### Load DCGAN"
   ]
  },
  {
   "cell_type": "code",
   "execution_count": 9,
   "metadata": {},
   "outputs": [
    {
     "name": "stdout",
     "output_type": "stream",
     "text": [
      "Shared resource path at: /nfs/data3/heishiro/Gdrive/kmod_share/\n",
      "Model folder: /nfs/data3/heishiro/Gdrive/kmod_share/prob_models/mnist_dcgan\n",
      "Model file:  mnist_dcgan_ep30_bs64.pt\n"
     ]
    }
   ],
   "source": [
    "# load a model from the shared folder\n",
    "model_folder = glo.shared_resource_folder('prob_models', 'mnist_dcgan')\n",
    "epochs = 30\n",
    "batch_size = 64\n",
    "model_fname = 'mnist_dcgan_ep{}_bs{}.pt'.format(epochs, batch_size)\n",
    "model_fpath = os.path.join(model_folder, model_fname)\n",
    "\n",
    "print('Shared resource path at: {}'.format(shared_resource_path))\n",
    "print('Model folder: {}'.format(model_folder))\n",
    "print('Model file: ', model_fname)"
   ]
  },
  {
   "cell_type": "code",
   "execution_count": 10,
   "metadata": {},
   "outputs": [],
   "source": [
    "import kmod.mnist.dcgan as mnist_dcgan\n",
    "import kmod.net as net\n",
    "from kmod.mnist.dcgan import DCGAN\n",
    "from kmod.mnist.dcgan import Generator\n",
    "# load the generator of type kmod.gen.PTNoiseTransformer\n",
    "dcgan = net.SerializableModule.load(model_fpath)"
   ]
  },
  {
   "cell_type": "code",
   "execution_count": 11,
   "metadata": {},
   "outputs": [
    {
     "name": "stderr",
     "output_type": "stream",
     "text": [
      "/nfs/nhome/live/heishirok/anaconda3/envs/clone_base/lib/python3.6/site-packages/torch/nn/modules/upsampling.py:122: UserWarning: nn.Upsampling is deprecated. Use nn.functional.interpolate instead.\n",
      "  warnings.warn(\"nn.Upsampling is deprecated. Use nn.functional.interpolate instead.\")\n"
     ]
    },
    {
     "data": {
      "text/plain": [
       "<matplotlib.figure.Figure at 0x7f79d33b12e8>"
      ]
     },
     "metadata": {},
     "output_type": "display_data"
    },
    {
     "data": {
      "image/png": "[encoded data removed]",
      "text/plain": [
       "<matplotlib.figure.Figure at 0x7f7a0cd87be0>"
      ]
     },
     "metadata": {},
     "output_type": "display_data"
    }
   ],
   "source": [
    "import kmod.plot as plot\n",
    "\n",
    "# generate images and show\n",
    "n_gen = 8*5\n",
    "gen_imgs = dcgan.sample(n_gen)\n",
    "\n",
    "plt.figure(figsize=(8, 5))\n",
    "plot.show_torch_imgs(gen_imgs, nrow=8, figsize=(8, 5), normalize=True)"
   ]
  },
  {
   "cell_type": "markdown",
   "metadata": {},
   "source": [
    "### Load VAE and sample"
   ]
  },
  {
   "cell_type": "code",
   "execution_count": 12,
   "metadata": {},
   "outputs": [],
   "source": [
    "from kmod.mnist.vae import VAE\n",
    "epochs = 20\n",
    "model_folder = glo.shared_resource_folder('prob_models', 'mnist_vae', str(epochs))\n",
    "model_fname = 'VAE.pkl'.format(epochs, batch_size)\n",
    "model_fpath = os.path.join(model_folder, model_fname)\n",
    "vae = VAE()\n",
    "vae.load_state_dict(torch.load(model_fpath))"
   ]
  },
  {
   "cell_type": "code",
   "execution_count": 13,
   "metadata": {},
   "outputs": [],
   "source": [
    "def vae_sample(vae, n):\n",
    "    sample = torch.randn(n, 20).to(device)\n",
    "    gen_imgs = vae.decode(sample)\n",
    "    return gen_imgs.detach().view(n, -1, 28, 28)\n",
    "    #bern = torch.distributions.Bernoulli(probs=gen_imgs)\n",
    "    #return bern.sample().view(n, -1, 28, 28)"
   ]
  },
  {
   "cell_type": "code",
   "execution_count": 14,
   "metadata": {},
   "outputs": [
    {
     "name": "stdout",
     "output_type": "stream",
     "text": [
      "torch.Size([40, 1, 28, 28])\n"
     ]
    },
    {
     "data": {
      "text/plain": [
       "<matplotlib.figure.Figure at 0x7f79cf272e10>"
      ]
     },
     "metadata": {},
     "output_type": "display_data"
    },
    {
     "data": {
      "image/png": "[encoded data removed]",
      "text/plain": [
       "<matplotlib.figure.Figure at 0x7f79cf272438>"
      ]
     },
     "metadata": {},
     "output_type": "display_data"
    }
   ],
   "source": [
    "# generate images and show\n",
    "n_gen = 8*5\n",
    "gen_imgs = torch.tensor(vae_sample(vae, n_gen))\n",
    "print(gen_imgs.size())\n",
    "\n",
    "plt.figure(figsize=(8, 5))\n",
    "plot.show_torch_imgs(gen_imgs, nrow=8, figsize=(8, 5))"
   ]
  },
  {
   "cell_type": "markdown",
   "metadata": {},
   "source": [
    "## Load MNIST Data"
   ]
  },
  {
   "cell_type": "code",
   "execution_count": 15,
   "metadata": {},
   "outputs": [],
   "source": [
    "# load MNIST data\n",
    "mnist_folder = glo.data_file('mnist')\n",
    "mnist_dataset = torchvision.datasets.MNIST(mnist_folder, train=False, \n",
    "                        transform=transforms.Compose([\n",
    "                           transforms.ToTensor(),\n",
    "                           transforms.Normalize((0.1307,), (0.3081,))\n",
    "                       ]))"
   ]
  },
  {
   "cell_type": "code",
   "execution_count": 16,
   "metadata": {},
   "outputs": [],
   "source": [
    "num_sample = 1000\n",
    "Z = [mnist_dataset[i][0] for i in range(num_sample)]\n",
    "input_Z = torch.stack(Z).to(device)\n",
    "Z = extractor(input_Z)"
   ]
  },
  {
   "cell_type": "code",
   "execution_count": 17,
   "metadata": {},
   "outputs": [
    {
     "name": "stdout",
     "output_type": "stream",
     "text": [
      "0 85\n",
      "1 126\n",
      "2 116\n",
      "3 107\n",
      "4 110\n",
      "5 87\n",
      "6 87\n",
      "7 99\n",
      "8 89\n",
      "9 94\n"
     ]
    }
   ],
   "source": [
    "labels = np.array([mnist_dataset[i][1].cpu().data.numpy() for i in range(num_sample)])\n",
    "for i in range(10):\n",
    "    print(i, np.sum(labels==i))"
   ]
  },
  {
   "cell_type": "markdown",
   "metadata": {},
   "source": [
    "## Sample from generators"
   ]
  },
  {
   "cell_type": "code",
   "execution_count": 18,
   "metadata": {},
   "outputs": [],
   "source": [
    "def norm(x, loc, scale):\n",
    "    return (x - loc) / scale\n",
    "\n",
    "\n",
    "def mnist_norm(x):\n",
    "    return norm(x, 0.1307, 0.3081)"
   ]
  },
  {
   "cell_type": "code",
   "execution_count": 19,
   "metadata": {},
   "outputs": [],
   "source": [
    "def trans_dcgan(x):\n",
    "    y = norm(x, -1.0, 2.0)\n",
    "    return mnist_norm(y)\n",
    "\n",
    "\n",
    "def trans_vae(x):\n",
    "    return mnist_norm(x).view(-1, 1, 28, 28)"
   ]
  },
  {
   "cell_type": "code",
   "execution_count": 20,
   "metadata": {},
   "outputs": [
    {
     "name": "stderr",
     "output_type": "stream",
     "text": [
      "/nfs/nhome/live/heishirok/anaconda3/envs/clone_base/lib/python3.6/site-packages/torch/nn/modules/upsampling.py:122: UserWarning: nn.Upsampling is deprecated. Use nn.functional.interpolate instead.\n",
      "  warnings.warn(\"nn.Upsampling is deprecated. Use nn.functional.interpolate instead.\")\n"
     ]
    }
   ],
   "source": [
    "X = extractor(trans_dcgan(dcgan.sample(num_sample)))\n",
    "Y = extractor(mnist_norm(vae_sample(vae, num_sample)))"
   ]
  },
  {
   "cell_type": "markdown",
   "metadata": {},
   "source": [
    "## Optimization settings"
   ]
  },
  {
   "cell_type": "code",
   "execution_count": 21,
   "metadata": {},
   "outputs": [],
   "source": [
    "J = 30\n",
    "\n",
    "XYZ = np.vstack((X.cpu().data.numpy(), Y.cpu().data.numpy(), Z.cpu().data.numpy()))\n",
    "med = util.meddistance(XYZ, subsample=1000)\n",
    "gwidth0 = med\n",
    "Zp0 = torch.rand([J, 100]) - 0.5\n",
    "Zq0 = torch.rand([J, 20]) - 0.5 \n",
    "\n",
    "gen_p = dcgan.module.forward\n",
    "gen_q = vae.decode\n",
    "trans_p = trans_dcgan\n",
    "trans_q = trans_vae\n",
    "featurizer = extractor\n",
    "\n",
    "reg = 1e-3 \n",
    "lam_z = 1e-6\n",
    "lam_gw = 1e-6\n",
    "gwidth_lb = None\n",
    "gwidth_ub = None\n",
    "Zp_lb= -(4.**2)\n",
    "Zp_ub= 4.**2\n",
    "Zq_lb= -(4.**2)\n",
    "Zq_ub= 4.**2"
   ]
  },
  {
   "cell_type": "code",
   "execution_count": 22,
   "metadata": {},
   "outputs": [],
   "source": [
    "def reg_z(Zp, Zq):\n",
    "    eps = 0.  # 1e-10\n",
    "    log_bar_p = (torch.sum(torch.log(Zp_ub-Zp**2+eps)) \n",
    "                 if Zp_ub is not None else 0)\n",
    "    # log_bar_p = (log_bar_p + torch.sum(torch.log(-Zp_lb+Zp+eps))\n",
    "                 # if Zp_lb is not None else log_bar_p)\n",
    "    log_bar_q = (torch.sum(torch.log(Zq_ub-Zq**2+eps)) \n",
    "                 if Zq_ub is not None else 0)\n",
    "    #log_bar_q = (log_bar_q + torch.sum(torch.log(-Zq_lb+Zq+eps))\n",
    "                 #if Zq_lb is not None else log_bar_q)\n",
    "    return log_bar_p + log_bar_q\n",
    "\n",
    "def reg_gw2(gwidth2):\n",
    "    eps = 0.  # 1e-6\n",
    "    log_bar_gwidth = (torch.log(gwidth_ub-gwidth2+eps)\n",
    "                      if gwidth_ub is not None else 0)\n",
    "    log_bar_gwidth = (log_bar_gwidth + (torch.log(-max(gwidth_lb, 0)+gwidth2+eps))\n",
    "                      if gwidth_lb is not None else log_bar_gwidth)\n",
    "\n",
    "    return log_bar_gwidth"
   ]
  },
  {
   "cell_type": "markdown",
   "metadata": {},
   "source": [
    "## Optimization"
   ]
  },
  {
   "cell_type": "code",
   "execution_count": 23,
   "metadata": {},
   "outputs": [
    {
     "name": "stderr",
     "output_type": "stream",
     "text": [
      "/nfs/nhome/live/heishirok/anaconda3/envs/clone_base/lib/python3.6/site-packages/torch/nn/modules/upsampling.py:122: UserWarning: nn.Upsampling is deprecated. Use nn.functional.interpolate instead.\n",
      "  warnings.warn(\"nn.Upsampling is deprecated. Use nn.functional.interpolate instead.\")\n"
     ]
    },
    {
     "name": "stdout",
     "output_type": "stream",
     "text": [
      "run [10]\n",
      "tensor(0.4553, grad_fn=<SubBackward>) tensor(0.4652, grad_fn=<NegBackward>)\n",
      "run [20]\n",
      "tensor(0.4553, grad_fn=<SubBackward>) tensor(0.4652, grad_fn=<NegBackward>)\n",
      "run [30]\n",
      "tensor(0.4553, grad_fn=<SubBackward>) tensor(0.4652, grad_fn=<NegBackward>)\n",
      "run [40]\n",
      "tensor(0.4553, grad_fn=<SubBackward>) tensor(0.4652, grad_fn=<NegBackward>)\n",
      "run [50]\n",
      "tensor(0.4553, grad_fn=<SubBackward>) tensor(0.4652, grad_fn=<NegBackward>)\n",
      "run [60]\n",
      "tensor(0.4553, grad_fn=<SubBackward>) tensor(0.4652, grad_fn=<NegBackward>)\n",
      "run [70]\n",
      "tensor(0.4553, grad_fn=<SubBackward>) tensor(0.4652, grad_fn=<NegBackward>)\n",
      "run [80]\n",
      "tensor(0.4553, grad_fn=<SubBackward>) tensor(0.4652, grad_fn=<NegBackward>)\n",
      "run [90]\n",
      "tensor(0.4553, grad_fn=<SubBackward>) tensor(0.4652, grad_fn=<NegBackward>)\n",
      "run [100]\n",
      "tensor(0.4553, grad_fn=<SubBackward>) tensor(0.4652, grad_fn=<NegBackward>)\n",
      "run [110]\n",
      "tensor(0.4553, grad_fn=<SubBackward>) tensor(0.4652, grad_fn=<NegBackward>)\n",
      "run [120]\n",
      "tensor(0.4553, grad_fn=<SubBackward>) tensor(0.4652, grad_fn=<NegBackward>)\n",
      "run [130]\n",
      "tensor(0.4553, grad_fn=<SubBackward>) tensor(0.4652, grad_fn=<NegBackward>)\n",
      "run [140]\n",
      "tensor(0.4553, grad_fn=<SubBackward>) tensor(0.4652, grad_fn=<NegBackward>)\n",
      "run [150]\n",
      "tensor(0.4552, grad_fn=<SubBackward>) tensor(0.4652, grad_fn=<NegBackward>)\n",
      "run [160]\n",
      "tensor(0.4552, grad_fn=<SubBackward>) tensor(0.4652, grad_fn=<NegBackward>)\n",
      "run [170]\n",
      "tensor(0.4552, grad_fn=<SubBackward>) tensor(0.4652, grad_fn=<NegBackward>)\n",
      "run [180]\n",
      "tensor(0.4552, grad_fn=<SubBackward>) tensor(0.4652, grad_fn=<NegBackward>)\n",
      "run [190]\n",
      "tensor(0.4552, grad_fn=<SubBackward>) tensor(0.4652, grad_fn=<NegBackward>)\n",
      "run [200]\n",
      "tensor(0.4552, grad_fn=<SubBackward>) tensor(0.4652, grad_fn=<NegBackward>)\n",
      "run [210]\n",
      "tensor(0.4552, grad_fn=<SubBackward>) tensor(0.4652, grad_fn=<NegBackward>)\n",
      "run [220]\n",
      "tensor(0.4552, grad_fn=<SubBackward>) tensor(0.4652, grad_fn=<NegBackward>)\n",
      "run [230]\n",
      "tensor(0.4552, grad_fn=<SubBackward>) tensor(0.4652, grad_fn=<NegBackward>)\n",
      "run [240]\n",
      "tensor(0.4552, grad_fn=<SubBackward>) tensor(0.4652, grad_fn=<NegBackward>)\n",
      "run [250]\n",
      "tensor(0.4552, grad_fn=<SubBackward>) tensor(0.4652, grad_fn=<NegBackward>)\n",
      "run [260]\n",
      "tensor(0.4552, grad_fn=<SubBackward>) tensor(0.4652, grad_fn=<NegBackward>)\n",
      "run [270]\n",
      "tensor(0.4552, grad_fn=<SubBackward>) tensor(0.4652, grad_fn=<NegBackward>)\n",
      "run [280]\n",
      "tensor(0.4552, grad_fn=<SubBackward>) tensor(0.4652, grad_fn=<NegBackward>)\n",
      "run [290]\n",
      "tensor(0.4552, grad_fn=<SubBackward>) tensor(0.4652, grad_fn=<NegBackward>)\n",
      "run [300]\n",
      "tensor(0.4552, grad_fn=<SubBackward>) tensor(0.4652, grad_fn=<NegBackward>)\n",
      "run [310]\n",
      "tensor(0.4552, grad_fn=<SubBackward>) tensor(0.4652, grad_fn=<NegBackward>)\n",
      "run [320]\n",
      "tensor(0.4552, grad_fn=<SubBackward>) tensor(0.4652, grad_fn=<NegBackward>)\n",
      "run [330]\n",
      "tensor(0.4552, grad_fn=<SubBackward>) tensor(0.4652, grad_fn=<NegBackward>)\n",
      "run [340]\n",
      "tensor(0.4552, grad_fn=<SubBackward>) tensor(0.4652, grad_fn=<NegBackward>)\n",
      "run [350]\n",
      "tensor(0.4552, grad_fn=<SubBackward>) tensor(0.4652, grad_fn=<NegBackward>)\n",
      "run [360]\n",
      "tensor(0.4552, grad_fn=<SubBackward>) tensor(0.4652, grad_fn=<NegBackward>)\n",
      "run [370]\n",
      "tensor(0.4552, grad_fn=<SubBackward>) tensor(0.4652, grad_fn=<NegBackward>)\n",
      "run [380]\n",
      "tensor(0.4552, grad_fn=<SubBackward>) tensor(0.4652, grad_fn=<NegBackward>)\n",
      "run [390]\n",
      "tensor(0.4552, grad_fn=<SubBackward>) tensor(0.4652, grad_fn=<NegBackward>)\n",
      "run [400]\n",
      "tensor(0.4552, grad_fn=<SubBackward>) tensor(0.4652, grad_fn=<NegBackward>)\n",
      "run [410]\n",
      "tensor(0.4552, grad_fn=<SubBackward>) tensor(0.4651, grad_fn=<NegBackward>)\n",
      "run [420]\n",
      "tensor(0.4552, grad_fn=<SubBackward>) tensor(0.4651, grad_fn=<NegBackward>)\n",
      "run [430]\n",
      "tensor(0.4552, grad_fn=<SubBackward>) tensor(0.4651, grad_fn=<NegBackward>)\n",
      "run [440]\n",
      "tensor(0.4552, grad_fn=<SubBackward>) tensor(0.4651, grad_fn=<NegBackward>)\n",
      "run [450]\n",
      "tensor(0.4552, grad_fn=<SubBackward>) tensor(0.4651, grad_fn=<NegBackward>)\n",
      "run [460]\n",
      "tensor(0.4552, grad_fn=<SubBackward>) tensor(0.4651, grad_fn=<NegBackward>)\n",
      "run [470]\n",
      "tensor(0.4552, grad_fn=<SubBackward>) tensor(0.4651, grad_fn=<NegBackward>)\n",
      "run [480]\n",
      "tensor(0.4552, grad_fn=<SubBackward>) tensor(0.4651, grad_fn=<NegBackward>)\n",
      "run [490]\n",
      "tensor(0.4552, grad_fn=<SubBackward>) tensor(0.4651, grad_fn=<NegBackward>)\n",
      "run [500]\n",
      "tensor(0.4552, grad_fn=<SubBackward>) tensor(0.4651, grad_fn=<NegBackward>)\n",
      "run [510]\n",
      "tensor(0.4552, grad_fn=<SubBackward>) tensor(0.4651, grad_fn=<NegBackward>)\n",
      "run [520]\n",
      "tensor(0.4552, grad_fn=<SubBackward>) tensor(0.4651, grad_fn=<NegBackward>)\n",
      "run [530]\n",
      "tensor(0.4552, grad_fn=<SubBackward>) tensor(0.4651, grad_fn=<NegBackward>)\n",
      "run [540]\n",
      "tensor(0.4552, grad_fn=<SubBackward>) tensor(0.4651, grad_fn=<NegBackward>)\n",
      "run [550]\n",
      "tensor(0.4552, grad_fn=<SubBackward>) tensor(0.4651, grad_fn=<NegBackward>)\n",
      "run [560]\n",
      "tensor(0.4552, grad_fn=<SubBackward>) tensor(0.4651, grad_fn=<NegBackward>)\n",
      "run [570]\n",
      "tensor(0.4551, grad_fn=<SubBackward>) tensor(0.4651, grad_fn=<NegBackward>)\n",
      "run [580]\n",
      "tensor(0.4551, grad_fn=<SubBackward>) tensor(0.4651, grad_fn=<NegBackward>)\n",
      "run [590]\n",
      "tensor(0.4551, grad_fn=<SubBackward>) tensor(0.4650, grad_fn=<NegBackward>)\n",
      "run [600]\n",
      "tensor(0.4490, grad_fn=<SubBackward>) tensor(0.4590, grad_fn=<NegBackward>)\n",
      "run [610]\n",
      "tensor(0.4452, grad_fn=<SubBackward>) tensor(0.4552, grad_fn=<NegBackward>)\n",
      "run [620]\n",
      "tensor(0.4419, grad_fn=<SubBackward>) tensor(0.4519, grad_fn=<NegBackward>)\n",
      "run [630]\n",
      "tensor(0.4315, grad_fn=<SubBackward>) tensor(0.4415, grad_fn=<NegBackward>)\n",
      "run [640]\n",
      "tensor(0.4117, grad_fn=<SubBackward>) tensor(0.4216, grad_fn=<NegBackward>)\n",
      "run [650]\n",
      "tensor(0.4024, grad_fn=<SubBackward>) tensor(0.4123, grad_fn=<NegBackward>)\n",
      "run [660]\n",
      "tensor(0.3920, grad_fn=<SubBackward>) tensor(0.4019, grad_fn=<NegBackward>)\n",
      "run [670]\n",
      "tensor(0.3757, grad_fn=<SubBackward>) tensor(0.3857, grad_fn=<NegBackward>)\n",
      "run [680]\n",
      "tensor(0.3564, grad_fn=<SubBackward>) tensor(0.3664, grad_fn=<NegBackward>)\n",
      "run [690]\n",
      "tensor(0.3410, grad_fn=<SubBackward>) tensor(0.3510, grad_fn=<NegBackward>)\n",
      "run [700]\n",
      "tensor(0.3368, grad_fn=<SubBackward>) tensor(0.3467, grad_fn=<NegBackward>)\n",
      "run [710]\n",
      "tensor(0.3308, grad_fn=<SubBackward>) tensor(0.3408, grad_fn=<NegBackward>)\n",
      "run [720]\n",
      "tensor(0.2876, grad_fn=<SubBackward>) tensor(0.2975, grad_fn=<NegBackward>)\n",
      "run [730]\n",
      "tensor(0.2720, grad_fn=<SubBackward>) tensor(0.2820, grad_fn=<NegBackward>)\n",
      "run [740]\n",
      "tensor(0.2662, grad_fn=<SubBackward>) tensor(0.2762, grad_fn=<NegBackward>)\n",
      "run [750]\n",
      "tensor(0.2628, grad_fn=<SubBackward>) tensor(0.2728, grad_fn=<NegBackward>)\n",
      "run [760]\n",
      "tensor(0.2577, grad_fn=<SubBackward>) tensor(0.2677, grad_fn=<NegBackward>)\n",
      "run [770]\n",
      "tensor(0.2523, grad_fn=<SubBackward>) tensor(0.2623, grad_fn=<NegBackward>)\n",
      "run [780]\n",
      "tensor(0.2387, grad_fn=<SubBackward>) tensor(0.2487, grad_fn=<NegBackward>)\n",
      "run [790]\n",
      "tensor(0.2358, grad_fn=<SubBackward>) tensor(0.2458, grad_fn=<NegBackward>)\n",
      "run [800]\n",
      "tensor(0.2324, grad_fn=<SubBackward>) tensor(0.2423, grad_fn=<NegBackward>)\n",
      "run [810]\n",
      "tensor(0.2031, grad_fn=<SubBackward>) tensor(0.2130, grad_fn=<NegBackward>)\n",
      "run [820]\n",
      "tensor(0.2007, grad_fn=<SubBackward>) tensor(0.2107, grad_fn=<NegBackward>)\n",
      "run [830]\n",
      "tensor(0.1973, grad_fn=<SubBackward>) tensor(0.2073, grad_fn=<NegBackward>)\n",
      "run [840]\n",
      "tensor(0.1954, grad_fn=<SubBackward>) tensor(0.2054, grad_fn=<NegBackward>)\n",
      "run [850]\n",
      "tensor(0.1914, grad_fn=<SubBackward>) tensor(0.2014, grad_fn=<NegBackward>)\n",
      "run [860]\n",
      "tensor(0.1701, grad_fn=<SubBackward>) tensor(0.1801, grad_fn=<NegBackward>)\n",
      "run [870]\n",
      "tensor(0.1691, grad_fn=<SubBackward>) tensor(0.1791, grad_fn=<NegBackward>)\n",
      "run [880]\n",
      "tensor(0.1674, grad_fn=<SubBackward>) tensor(0.1774, grad_fn=<NegBackward>)\n",
      "run [890]\n",
      "tensor(0.1664, grad_fn=<SubBackward>) tensor(0.1764, grad_fn=<NegBackward>)\n",
      "run [900]\n",
      "tensor(0.1639, grad_fn=<SubBackward>) tensor(0.1739, grad_fn=<NegBackward>)\n",
      "run [910]\n",
      "tensor(0.1627, grad_fn=<SubBackward>) tensor(0.1727, grad_fn=<NegBackward>)\n",
      "run [920]\n",
      "tensor(0.1435, grad_fn=<SubBackward>) tensor(0.1534, grad_fn=<NegBackward>)\n",
      "run [930]\n",
      "tensor(0.1429, grad_fn=<SubBackward>) tensor(0.1529, grad_fn=<NegBackward>)\n",
      "run [940]\n",
      "tensor(0.1421, grad_fn=<SubBackward>) tensor(0.1521, grad_fn=<NegBackward>)\n",
      "run [950]\n",
      "tensor(0.1411, grad_fn=<SubBackward>) tensor(0.1510, grad_fn=<NegBackward>)\n",
      "run [960]\n",
      "tensor(0.1402, grad_fn=<SubBackward>) tensor(0.1502, grad_fn=<NegBackward>)\n"
     ]
    },
    {
     "name": "stdout",
     "output_type": "stream",
     "text": [
      "run [970]\n",
      "tensor(0.1209, grad_fn=<SubBackward>) tensor(0.1309, grad_fn=<NegBackward>)\n",
      "run [980]\n",
      "tensor(0.1179, grad_fn=<SubBackward>) tensor(0.1278, grad_fn=<NegBackward>)\n",
      "run [990]\n",
      "tensor(0.1148, grad_fn=<SubBackward>) tensor(0.1247, grad_fn=<NegBackward>)\n",
      "run [1000]\n",
      "tensor(0.1137, grad_fn=<SubBackward>) tensor(0.1237, grad_fn=<NegBackward>)\n"
     ]
    }
   ],
   "source": [
    "dtype = torch.float\n",
    "gwidth2 = torch.tensor(gwidth0**2, requires_grad=True, device=device)\n",
    "k = kernel.PTKGauss(gwidth2)\n",
    "Zp = torch.tensor(Zp0, requires_grad=True, device=device,\n",
    "        dtype=dtype)\n",
    "Zq = torch.tensor(Zq0, requires_grad=True, device=device,\n",
    "        dtype=dtype)\n",
    "\n",
    "X = torch.tensor(X, requires_grad=False, \n",
    "                 device=device, dtype=dtype)\n",
    "Y = torch.tensor(Y, requires_grad=False,\n",
    "                 device=device, dtype=dtype)\n",
    "Z = torch.tensor(Z, requires_grad=False,\n",
    "                 device=device, dtype=dtype)\n",
    "\n",
    "optimizer = optim.LBFGS([gwidth2, Zp, Zq], lr=1e-3, max_iter=20)\n",
    "# optimizer = optim.SGD([gwidth2, Zp, Zq], lr=1e-3, momentum=0.9, nesterov=True)\n",
    "# optimizer = optim.Adam([k.sigma2, Zp, Zq], lr=1e-3)\n",
    "# transform = nn.Upsample((model_input_size, model_input_size), mode='bilinear')\n",
    "\n",
    "num_steps = 1000\n",
    "log_inter = 10\n",
    "\n",
    "run = [0]\n",
    "while run[0] <= num_steps:\n",
    "    \n",
    "    def closure():\n",
    "        optimizer.zero_grad()\n",
    "        im_p = gen_p(Zp)\n",
    "        im_q = gen_q(Zq)\n",
    "        Vp = featurizer(trans_p(im_p)) if trans_p is not None else featurizer(im_p)\n",
    "        Vq = featurizer(trans_q(im_q)) if trans_q is not None else featurizer(im_q)\n",
    "        power = -ume_power_criterion(X, Y, Z, Vp, Vq, k, reg)\n",
    "        obj = power - lam_z*reg_z(Zp, Zq) - lam_gw*reg_gw2(k.sigma2)\n",
    "        obj.backward(retain_graph=True)\n",
    "        run[0] += 1\n",
    "        if run[0] % log_inter == 0:\n",
    "            print('run {}'.format(run))\n",
    "            print(obj, power)\n",
    "        return obj\n",
    "    optimizer.step(closure)"
   ]
  },
  {
   "cell_type": "code",
   "execution_count": 24,
   "metadata": {},
   "outputs": [
    {
     "name": "stderr",
     "output_type": "stream",
     "text": [
      "/nfs/nhome/live/heishirok/anaconda3/envs/clone_base/lib/python3.6/site-packages/torch/nn/modules/upsampling.py:122: UserWarning: nn.Upsampling is deprecated. Use nn.functional.interpolate instead.\n",
      "  warnings.warn(\"nn.Upsampling is deprecated. Use nn.functional.interpolate instead.\")\n"
     ]
    }
   ],
   "source": [
    "gen_imgs = dcgan.forward(Zp)"
   ]
  },
  {
   "cell_type": "code",
   "execution_count": 25,
   "metadata": {},
   "outputs": [
    {
     "data": {
      "text/plain": [
       "<matplotlib.figure.Figure at 0x7f79cf288390>"
      ]
     },
     "metadata": {},
     "output_type": "display_data"
    },
    {
     "data": {
      "image/png": "[encoded data removed]",
      "text/plain": [
       "<matplotlib.figure.Figure at 0x7f79cf288320>"
      ]
     },
     "metadata": {},
     "output_type": "display_data"
    }
   ],
   "source": [
    "plt.figure(figsize=(8, 5))\n",
    "plot.show_torch_imgs(gen_imgs.detach(), nrow=8, figsize=(8, 5), normalize=True)"
   ]
  },
  {
   "cell_type": "code",
   "execution_count": 26,
   "metadata": {},
   "outputs": [
    {
     "data": {
      "text/plain": [
       "<matplotlib.figure.Figure at 0x7f79cf2889b0>"
      ]
     },
     "metadata": {},
     "output_type": "display_data"
    },
    {
     "data": {
      "image/png": "[encoded data removed]",
      "text/plain": [
       "<matplotlib.figure.Figure at 0x7f79cf288898>"
      ]
     },
     "metadata": {},
     "output_type": "display_data"
    }
   ],
   "source": [
    "gen_imgs = vae.decode(Zq).detach().view(-1, 1, 28, 28)\n",
    "plt.figure(figsize=(8, 5))\n",
    "plot.show_torch_imgs(gen_imgs, nrow=8, figsize=(8, 5), normalize=True)"
   ]
  },
  {
   "cell_type": "code",
   "execution_count": 27,
   "metadata": {},
   "outputs": [
    {
     "name": "stdout",
     "output_type": "stream",
     "text": [
      "tensor(0.5884, grad_fn=<MaxBackward1>)\n"
     ]
    }
   ],
   "source": [
    "print(Zp.max())"
   ]
  },
  {
   "cell_type": "code",
   "execution_count": 28,
   "metadata": {},
   "outputs": [
    {
     "name": "stdout",
     "output_type": "stream",
     "text": [
      "tensor(3.0299, grad_fn=<MaxBackward1>)\n"
     ]
    }
   ],
   "source": [
    "print(Zq.max())"
   ]
  },
  {
   "cell_type": "code",
   "execution_count": 29,
   "metadata": {},
   "outputs": [
    {
     "name": "stdout",
     "output_type": "stream",
     "text": [
      "tensor(1427.1587, requires_grad=True) 1426.8665870070108\n"
     ]
    }
   ],
   "source": [
    "print(k.sigma2, gwidth0**2)"
   ]
  }
 ],
 "metadata": {
  "kernelspec": {
   "display_name": "Python 3",
   "language": "python",
   "name": "python3"
  },
  "language_info": {
   "codemirror_mode": {
    "name": "ipython",
    "version": 3
   },
   "file_extension": ".py",
   "mimetype": "text/x-python",
   "name": "python",
   "nbconvert_exporter": "python",
   "pygments_lexer": "ipython3",
   "version": "3.6.5"
  }
 },
 "nbformat": 4,
 "nbformat_minor": 2
}
