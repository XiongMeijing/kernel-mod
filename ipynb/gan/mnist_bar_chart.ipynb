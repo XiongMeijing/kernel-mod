{
 "cells": [
  {
   "cell_type": "code",
   "execution_count": 1,
   "metadata": {},
   "outputs": [],
   "source": [
    "%matplotlib inline\n",
    "%load_ext autoreload\n",
    "%autoreload 2\n",
    "\n",
    "#%config InlineBackend.figure_format = 'svg'\n",
    "#%config InlineBackend.figure_format = 'pdf'"
   ]
  },
  {
   "cell_type": "code",
   "execution_count": 2,
   "metadata": {},
   "outputs": [],
   "source": [
    "import kmod\n",
    "import kmod.glo as glo\n",
    "import kmod.plot as plot\n",
    "\n",
    "import matplotlib\n",
    "import matplotlib.pyplot as plt\n",
    "import os\n",
    "import numpy as np\n",
    "import scipy.stats as stats\n",
    "import torch\n",
    "import torch.autograd\n",
    "import torch.nn.functional as F\n",
    "import torchvision\n",
    "import torchvision.transforms as transforms"
   ]
  },
  {
   "cell_type": "code",
   "execution_count": 3,
   "metadata": {},
   "outputs": [],
   "source": [
    "# font options\n",
    "font = {\n",
    "    #'family' : 'normal',\n",
    "    #'weight' : 'bold',\n",
    "    'size'   : 18\n",
    "}\n",
    "\n",
    "plt.rc('font', **font)\n",
    "plt.rc('lines', linewidth=2)\n",
    "matplotlib.rcParams['pdf.fonttype'] = 42\n",
    "matplotlib.rcParams['ps.fonttype'] = 42"
   ]
  },
  {
   "cell_type": "code",
   "execution_count": 4,
   "metadata": {},
   "outputs": [],
   "source": [
    "# set this to False to avoid using a GPU\n",
    "use_cuda = True and torch.cuda.is_available()\n",
    "device = torch.device(\"cuda\" if use_cuda else \"cpu\")\n",
    "torch.set_default_tensor_type(torch.cuda.FloatTensor if use_cuda else torch.FloatTensor)"
   ]
  },
  {
   "cell_type": "markdown",
   "metadata": {},
   "source": [
    "## Load a trained classifier"
   ]
  },
  {
   "cell_type": "code",
   "execution_count": 5,
   "metadata": {},
   "outputs": [
    {
     "name": "stdout",
     "output_type": "stream",
     "text": [
      "Shared resource path at: /nfs/data3/heishiro/Gdrive/kmod_share/\n",
      "Model folder: /nfs/data3/heishiro/Gdrive/kmod_share/prob_models/mnist_cnn\n",
      "Model file:  mnist_cnn_ep20_s1.pt\n"
     ]
    }
   ],
   "source": [
    "# load a model from the shared folder\n",
    "shared_resource_path = glo.shared_resource_folder()\n",
    "model_folder = glo.shared_resource_folder('prob_models', 'mnist_cnn')\n",
    "epochs = 20\n",
    "seed = 1\n",
    "model_fname = 'mnist_cnn_ep{}_s{}.pt'.format(epochs, seed)\n",
    "model_fpath = os.path.join(model_folder, model_fname)\n",
    "\n",
    "print('Shared resource path at: {}'.format(shared_resource_path))\n",
    "print('Model folder: {}'.format(model_folder))\n",
    "print('Model file: ', model_fname)"
   ]
  },
  {
   "cell_type": "code",
   "execution_count": 6,
   "metadata": {},
   "outputs": [
    {
     "data": {
      "text/plain": [
       "MnistClassifier(\n",
       "  (conv1): Conv2d(1, 10, kernel_size=(5, 5), stride=(1, 1))\n",
       "  (conv2): Conv2d(10, 20, kernel_size=(5, 5), stride=(1, 1))\n",
       "  (conv2_drop): Dropout2d(p=0.5)\n",
       "  (fc1): Linear(in_features=320, out_features=50, bias=True)\n",
       "  (fc2): Linear(in_features=50, out_features=10, bias=True)\n",
       ")"
      ]
     },
     "metadata": {},
     "output_type": "display_data"
    }
   ],
   "source": [
    "from kmod.mnist.classify import MnistClassifier\n",
    "# load option depends on whether GPU is used\n",
    "load_options = {} if use_cuda else {'map_location': lambda storage, loc: storage} \n",
    "classifier = MnistClassifier.load(model_fpath, **load_options)\n",
    "# evaluation mode\n",
    "classifier = classifier.eval().to(device)\n",
    "# classifier is a torch.nn.Module\n",
    "display(classifier)"
   ]
  },
  {
   "cell_type": "code",
   "execution_count": 7,
   "metadata": {},
   "outputs": [],
   "source": [
    "def norm(x, loc, scale):\n",
    "    return (x - loc) / scale\n",
    "\n",
    "def mnist_norm(x):\n",
    "    return norm(x, 0.1307, 0.3081)\n",
    "\n",
    "\n",
    "def trans_dcgan(x):\n",
    "    y = norm(x, -1.0, 2.0)\n",
    "    return mnist_norm(y)\n",
    "\n",
    "\n",
    "def trans_vae(x):\n",
    "    return mnist_norm(x).view(-1, 1, 28, 28)"
   ]
  },
  {
   "cell_type": "code",
   "execution_count": 8,
   "metadata": {},
   "outputs": [],
   "source": [
    "def vae_sample(vae, n):\n",
    "    sample = torch.randn(n, 20).to(device)\n",
    "    gen_imgs = vae.decode(sample)\n",
    "    #bern = torch.distributions.Bernoulli(probs=gen_imgs)\n",
    "    #return bern.sample().view(n, -1, 28, 28)\n",
    "    return gen_imgs.detach().view(n, -1, 28, 28)"
   ]
  },
  {
   "cell_type": "markdown",
   "metadata": {},
   "source": [
    "## Load DCGAN"
   ]
  },
  {
   "cell_type": "code",
   "execution_count": 9,
   "metadata": {},
   "outputs": [
    {
     "name": "stdout",
     "output_type": "stream",
     "text": [
      "Shared resource path at: /nfs/data3/heishiro/Gdrive/kmod_share/\n",
      "Model folder: /nfs/data3/heishiro/Gdrive/kmod_share/prob_models/mnist_dcgan\n",
      "Model file:  mnist_dcgan_ep30_bs64.pt\n"
     ]
    }
   ],
   "source": [
    "# load a model from the shared folder\n",
    "model_folder = glo.shared_resource_folder('prob_models', 'mnist_dcgan')\n",
    "epochs = 30\n",
    "batch_size = 64\n",
    "model_fname = 'mnist_dcgan_ep{}_bs{}.pt'.format(epochs, batch_size)\n",
    "model_fpath = os.path.join(model_folder, model_fname)\n",
    "\n",
    "print('Shared resource path at: {}'.format(shared_resource_path))\n",
    "print('Model folder: {}'.format(model_folder))\n",
    "print('Model file: ', model_fname)"
   ]
  },
  {
   "cell_type": "code",
   "execution_count": 10,
   "metadata": {},
   "outputs": [],
   "source": [
    "import kmod.mnist.dcgan as mnist_dcgan\n",
    "import kmod.net as net\n",
    "from kmod.mnist.dcgan import DCGAN\n",
    "from kmod.mnist.dcgan import Generator\n",
    "# load the generator of type kmod.gen.PTNoiseTransformer\n",
    "dcgan = net.SerializableModule.load(model_fpath)"
   ]
  },
  {
   "cell_type": "code",
   "execution_count": 11,
   "metadata": {},
   "outputs": [
    {
     "name": "stderr",
     "output_type": "stream",
     "text": [
      "/nfs/nhome/live/heishirok/anaconda3/envs/clone_base/lib/python3.6/site-packages/torch/nn/modules/upsampling.py:122: UserWarning: nn.Upsampling is deprecated. Use nn.functional.interpolate instead.\n",
      "  warnings.warn(\"nn.Upsampling is deprecated. Use nn.functional.interpolate instead.\")\n"
     ]
    }
   ],
   "source": [
    "n_gen = 10000\n",
    "gen_imgs_p = dcgan.sample(n_gen)"
   ]
  },
  {
   "cell_type": "code",
   "execution_count": 12,
   "metadata": {},
   "outputs": [],
   "source": [
    "pred_results = []\n",
    "batch_size = 100\n",
    "for i in range(0, n_gen, batch_size):\n",
    "    x = gen_imgs_p[i:i+batch_size]\n",
    "    x = trans_dcgan(x)\n",
    "    pred = torch.argmax(classifier(x), dim=1)\n",
    "    pred_results.append(pred)\n",
    "pred_results_p = torch.cat(pred_results)\n",
    "pred_num_p = []\n",
    "for i in range(10):\n",
    "    pred_num_p.append(torch.sum(pred_results_p==i).item())"
   ]
  },
  {
   "cell_type": "markdown",
   "metadata": {},
   "source": [
    "## Load VAE"
   ]
  },
  {
   "cell_type": "code",
   "execution_count": 13,
   "metadata": {},
   "outputs": [],
   "source": [
    "from kmod.mnist.vae import VAE\n",
    "epochs = 20\n",
    "model_folder = glo.shared_resource_folder('prob_models', 'mnist_vae', str(epochs))\n",
    "model_fname = 'VAE.pkl'.format(epochs, batch_size)\n",
    "model_fpath = os.path.join(model_folder, model_fname)\n",
    "vae = VAE()\n",
    "vae.load_state_dict(torch.load(model_fpath))"
   ]
  },
  {
   "cell_type": "code",
   "execution_count": 14,
   "metadata": {},
   "outputs": [],
   "source": [
    "gen_imgs_q = torch.tensor(vae_sample(vae, n_gen))"
   ]
  },
  {
   "cell_type": "code",
   "execution_count": 15,
   "metadata": {},
   "outputs": [],
   "source": [
    "pred_results = []\n",
    "batch_size = 100\n",
    "for i in range(0, n_gen, batch_size):\n",
    "    x = gen_imgs_q[i:i+batch_size]\n",
    "    x = trans_vae(x)\n",
    "    pred = torch.argmax(classifier(x), dim=1)\n",
    "    pred_results.append(pred)\n",
    "pred_results_q = torch.cat(pred_results)"
   ]
  },
  {
   "cell_type": "code",
   "execution_count": 16,
   "metadata": {},
   "outputs": [],
   "source": [
    "pred_num_q = []\n",
    "for i in range(10):\n",
    "    pred_num_q.append(torch.sum(pred_results_q==i).item())"
   ]
  },
  {
   "cell_type": "code",
   "execution_count": 21,
   "metadata": {},
   "outputs": [
    {
     "data": {
      "text/plain": [
       "<Container object of 10 artists>"
      ]
     },
     "execution_count": 21,
     "metadata": {},
     "output_type": "execute_result"
    },
    {
     "data": {
      "image/png": "[encoded data removed]",
      "text/plain": [
       "<matplotlib.figure.Figure at 0x7f68840b4780>"
      ]
     },
     "metadata": {},
     "output_type": "display_data"
    }
   ],
   "source": [
    "plt.xlabel('class')\n",
    "plt.ylabel('pred[%]')\n",
    "plt.bar(np.arange(10)+1, pred_num_p/np.sum(pred_num_p)*100, alpha=0.5)"
   ]
  },
  {
   "cell_type": "code",
   "execution_count": 22,
   "metadata": {},
   "outputs": [
    {
     "data": {
      "text/plain": [
       "<Container object of 10 artists>"
      ]
     },
     "execution_count": 22,
     "metadata": {},
     "output_type": "execute_result"
    },
    {
     "data": {
      "image/png": "[encoded data removed]",
      "text/plain": [
       "<matplotlib.figure.Figure at 0x7f6883fc36a0>"
      ]
     },
     "metadata": {},
     "output_type": "display_data"
    }
   ],
   "source": [
    "plt.xlabel('class')\n",
    "plt.ylabel('pred[%]')\n",
    "plt.bar(np.arange(10)+1, pred_num_q/np.sum(pred_num_q)*100, alpha=0.5)"
   ]
  }
 ],
 "metadata": {
  "kernelspec": {
   "display_name": "Python 3",
   "language": "python",
   "name": "python3"
  },
  "language_info": {
   "codemirror_mode": {
    "name": "ipython",
    "version": 3
   },
   "file_extension": ".py",
   "mimetype": "text/x-python",
   "name": "python",
   "nbconvert_exporter": "python",
   "pygments_lexer": "ipython3",
   "version": "3.6.5"
  }
 },
 "nbformat": 4,
 "nbformat_minor": 2
}
