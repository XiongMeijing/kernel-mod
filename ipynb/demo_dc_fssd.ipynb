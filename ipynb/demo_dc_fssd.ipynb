{
 "cells": [
  {
   "cell_type": "markdown",
   "metadata": {
    "collapsed": true
   },
   "source": [
    "A notebook to illustrate/test `kmod.mctest.DS_FSSD`."
   ]
  },
  {
   "cell_type": "code",
   "execution_count": null,
   "metadata": {},
   "outputs": [],
   "source": [
    "%load_ext autoreload\n",
    "%autoreload 2\n",
    "%matplotlib inline\n",
    "#%config InlineBackend.figure_format = 'svg'\n",
    "#%config InlineBackend.figure_format = 'pdf'\n",
    "\n",
    "import kmod\n",
    "import kgof\n",
    "import kgof.goftest as gof\n",
    "# submodules\n",
    "from kmod import data, density, kernel, util, plot\n",
    "from kmod import mctest as mct\n",
    "import matplotlib\n",
    "import matplotlib.pyplot as plt\n",
    "import autograd.numpy as np\n",
    "import scipy.stats as stats"
   ]
  },
  {
   "cell_type": "code",
   "execution_count": null,
   "metadata": {
    "collapsed": true
   },
   "outputs": [],
   "source": [
    "plot.set_default_matplotlib_options()\n",
    "# # font options\n",
    "# font = {\n",
    "#     #'family' : 'normal',\n",
    "#     #'weight' : 'bold',\n",
    "#     'size'   : 18\n",
    "# }\n",
    "\n",
    "# plt.rc('font', **font)\n",
    "# plt.rc('lines', linewidth=2)\n",
    "# matplotlib.rcParams['pdf.fonttype'] = 42\n",
    "# matplotlib.rcParams['ps.fonttype'] = 42"
   ]
  },
  {
   "cell_type": "markdown",
   "metadata": {
    "collapsed": true
   },
   "source": [
    "## Simple problem: 1D normal distributions"
   ]
  },
  {
   "cell_type": "markdown",
   "metadata": {},
   "source": [
    "Data are drawn from $r=\\mathcal{N}(\\mu_r, \\sigma_r^2)$. Two models: $p=\\mathcal{N}(\\mu_p, \\sigma_p^2)$ and $q=\\mathcal{N}(\\mu_q, \\sigma_q^2)$."
   ]
  },
  {
   "cell_type": "code",
   "execution_count": null,
   "metadata": {
    "collapsed": true
   },
   "outputs": [],
   "source": [
    "# Data generating distribution\n",
    "seed = 21\n",
    "\n",
    "mu_r = 0\n",
    "var_r = 1\n",
    "r = density.IsotropicNormal(np.array([mu_r]), var_r)\n",
    "ds_r = r.get_datasource()\n",
    "# sample data\n",
    "n = 500\n",
    "dat = ds_r.sample(n, seed=seed+1)\n",
    "X = dat.data()"
   ]
  },
  {
   "cell_type": "code",
   "execution_count": null,
   "metadata": {
    "collapsed": true
   },
   "outputs": [],
   "source": [
    "def visual_test_1dGauss(X, mu_p, var_p, mu_q, var_q, J=5):\n",
    "    \"\"\"\n",
    "    Assume that both models p,q are 1D normal distributions.\n",
    "    Plot p, q, and the data and test with the FSSD-based model \n",
    "    comparison test.\n",
    "    \n",
    "    :param X: data matrix\n",
    "    :param mu_p: mean of the model p\n",
    "    :param var_p: variance of the model p\n",
    "    :param mu_q: mean of the model q\n",
    "    :param var_q: variance of the model q\n",
    "    \n",
    "    :returns the test object\n",
    "    \"\"\"\n",
    "    p = density.IsotropicNormal(np.array([mu_p]), var_p)\n",
    "    q = density.IsotropicNormal(np.array([mu_q]), var_q)\n",
    "    \n",
    "    # kernel\n",
    "    med = util.meddistance(X, subsample=1000)\n",
    "    k = kernel.KGauss(sigma2=med**2/2.0)\n",
    "    l = k\n",
    "\n",
    "    # numbers of test locations\n",
    "    Jp = J\n",
    "    Jq = Jp\n",
    "    # test locations\n",
    "#     locs = util.fit_gaussian_draw(X, Jp+Jq, seed=seed+1)\n",
    "#     V = locs[:Jp, :]\n",
    "#     W = locs[Jp:, :]k\n",
    "    locs = util.fit_gaussian_draw(X, Jp, seed=seed+1)\n",
    "    V = locs\n",
    "    W = V\n",
    "    assert W.shape[0] == Jq\n",
    "    \n",
    "    # Plot p, q, data\n",
    "    min_mean = min(mu_r, mu_p, mu_q)\n",
    "    max_mean = max(mu_r, mu_p, mu_q)\n",
    "    max_sd = max(var_r, var_p, var_q)**0.5\n",
    "\n",
    "    dom = np.linspace(min_mean-2*max_sd, max_mean+2*max_sd, 200)\n",
    "    den_p = np.exp(p.log_normalized_den(dom[:, np.newaxis]))\n",
    "    den_q = np.exp(q.log_normalized_den(dom[:, np.newaxis]))\n",
    "\n",
    "    plt.figure(figsize=(10, 5))\n",
    "    plt.hist(X, bins=20, normed=True, label='Data', color='k')\n",
    "    plt.plot(dom, den_p, 'r-', label='p')\n",
    "    plt.plot(dom, den_q, 'b-', label='q')\n",
    "    plt.title('H1: q fits better than p')\n",
    "    plt.legend(loc='best')\n",
    "\n",
    "    # test\n",
    "    alpha = 0.01\n",
    "    mcfssd = mct.DC_FSSD(p, q, k, l, V, W, alpha=alpha)\n",
    "    test_result = mcfssd.perform_test(dat)\n",
    "    display(test_result)\n",
    "    return mcfssd"
   ]
  },
  {
   "cell_type": "code",
   "execution_count": null,
   "metadata": {},
   "outputs": [],
   "source": [
    "# two competing models. H0: FSSD^2(p) <= FSSD^2(q) i.e., p is better than q.\n",
    "mu_p, var_p = 1.5, 2\n",
    "mu_q, var_q = 0.5, 1\n",
    "mcfssd = visual_test_1dGauss(X, mu_p, var_p, mu_q, var_q, J=5)"
   ]
  },
  {
   "cell_type": "code",
   "execution_count": null,
   "metadata": {
    "scrolled": true
   },
   "outputs": [],
   "source": [
    "mcfssd.get_H1_mean_variance(dat)"
   ]
  },
  {
   "cell_type": "code",
   "execution_count": null,
   "metadata": {},
   "outputs": [],
   "source": [
    "import ipywidgets\n",
    "from ipywidgets import interact, interactive, fixed\n",
    "from IPython.display import display\n",
    "import ipywidgets as widgets\n",
    "\n",
    "mup_slide = ipywidgets.FloatSlider(value=1, min=-3, max=3, step=0.5)\n",
    "muq_slide = ipywidgets.FloatSlider(value=0.5, min=-3, max=3.0, step=0.5)\n",
    "vs = interact(visual_test_1dGauss, X=fixed(X), mu_p=mup_slide, var_p=(1e-4, 5, 0.5),\n",
    "                mu_q=muq_slide, var_q=(1e-4, 5, 0.5))\n",
    "display(vs)"
   ]
  },
  {
   "cell_type": "markdown",
   "metadata": {},
   "source": [
    "----------------"
   ]
  },
  {
   "cell_type": "markdown",
   "metadata": {},
   "source": [
    "## Stein witness functions"
   ]
  },
  {
   "cell_type": "code",
   "execution_count": null,
   "metadata": {
    "collapsed": true
   },
   "outputs": [],
   "source": [
    "# models\n",
    "p = density.IsotropicNormal(mean=np.array([0]), variance=1)\n",
    "q = density.IsotropicNormal(mean=np.array([6]), variance=1)\n",
    "r = density.IsoGaussianMixture(\n",
    "    means=np.array([[0, 6]]).T,\n",
    "    variances=np.array([1, 1]),\n",
    "    pmix=[0.7, 0.3]\n",
    ")\n",
    "dsr = r.get_datasource()\n",
    "rdat = dsr.sample(n=2000, seed=59)\n",
    "# med = util.meddistance(rdat.data(), subsample=1000)\n",
    "# k = kernel.KGauss(sigma2=med**2/2.0)\n",
    "k = kernel.KGauss(sigma2=3.0)"
   ]
  },
  {
   "cell_type": "code",
   "execution_count": null,
   "metadata": {},
   "outputs": [],
   "source": [
    "dom = np.linspace(-6, 11, 300)[:, np.newaxis]\n",
    "\n",
    "wit_pr = gof.SteinWitness(p, k, rdat)\n",
    "wit_qr = gof.SteinWitness(q, k, rdat)\n",
    "\n",
    "wit_pr_evals = wit_pr(dom)\n",
    "wit_qr_evals = wit_qr(dom)\n",
    "diff_wit2 = wit_pr_evals**2 - wit_qr_evals**2"
   ]
  },
  {
   "cell_type": "code",
   "execution_count": null,
   "metadata": {
    "collapsed": true
   },
   "outputs": [],
   "source": [
    "# power criterion function\n",
    "power_func = mct.DC_FSSD.get_power_criterion_func(p, q, rdat, k, k, reg=1e-5)\n",
    "power_cri_values = power_func(dom)"
   ]
  },
  {
   "cell_type": "code",
   "execution_count": null,
   "metadata": {
    "scrolled": true
   },
   "outputs": [],
   "source": [
    "# visual_test_1dGauss(rdat.data(), mu_p, var_p, mu_q, var_q)\n",
    "\n",
    "# plot the densities\n",
    "denp = np.exp(p.log_normalized_den(dom))\n",
    "denq = np.exp(q.log_normalized_den(dom))\n",
    "denr = np.exp(r.log_normalized_den(dom))\n",
    "\n",
    "plt.figure(figsize=(8, 5))\n",
    "density_lw = 2\n",
    "plt.plot(dom, denp, 'r-', linewidth=density_lw, label='p')\n",
    "plt.plot(dom, denq, 'b-', linewidth=density_lw, label='q')\n",
    "plt.plot(dom, denr, 'k-', linewidth=density_lw, label='r')\n",
    "\n",
    "# plot the witness functions\n",
    "wit_scale = 20\n",
    "diff_wit2_scale = 1.9e3\n",
    "wit_lw = 2\n",
    "diff_wit2_lw = 4\n",
    "plt.plot(dom, wit_scale*wit_pr_evals, 'r--', linewidth=wit_lw, label='swit p,r')\n",
    "plt.plot(dom, wit_scale*wit_qr_evals, 'b--', linewidth=wit_lw, label='swit q,r')\n",
    "plt.plot(dom, diff_wit2_scale*diff_wit2, 'm-', \n",
    "         linewidth=diff_wit2_lw, label='swit$^2$(p,r)-swit$^2$(q,r)')\n",
    "# power criterion values\n",
    "plt.plot(dom, power_cri_values, 'g-', linewidth=diff_wit2_lw, label='Power Cri.')\n",
    "# plt.axis('off')\n",
    "plt.legend(loc='lower left', bbox_to_anchor=(1., 0.))\n",
    "plt.savefig('dcfssd_stein_diff2.pdf', bbox_inches='tight')"
   ]
  },
  {
   "cell_type": "markdown",
   "metadata": {},
   "source": [
    "------------------------"
   ]
  },
  {
   "cell_type": "markdown",
   "metadata": {
    "collapsed": true
   },
   "source": [
    "## Optimize test locations and the Gaussian width"
   ]
  },
  {
   "cell_type": "code",
   "execution_count": null,
   "metadata": {
    "collapsed": true
   },
   "outputs": [],
   "source": [
    "# r = N(0, 1)\n",
    "mu_p, var_p = 1, 1.0\n",
    "mu_q, var_q = 0.3, 1.0\n",
    "p = density.IsotropicNormal(mean=np.array([mu_p]), variance=var_p)\n",
    "q = density.IsotropicNormal(mean=np.array([mu_q]), variance=var_q)\n",
    "\n",
    "n = 500\n",
    "seed = 8\n",
    "datr = ds_r.sample(n=n, seed=seed)\n",
    "# split the data into training/test sets\n",
    "datr_tr, datr_te = datr.split_tr_te(tr_proportion=0.5)"
   ]
  },
  {
   "cell_type": "code",
   "execution_count": null,
   "metadata": {
    "collapsed": true
   },
   "outputs": [],
   "source": [
    "# def diversity_obj(gwidth2, V):\n",
    "#     \"\"\"\n",
    "#     An experimental hacky function to promote diversity of the test locations.\n",
    "#     This is experimental.\n",
    "#     \"\"\"\n",
    "#     J, d = V.shape\n",
    "#     if J==1:\n",
    "#         return 0\n",
    "#     scale = 1.0/(d*J*(J-1))\n",
    "#     return -scale*(np.sum(np.sum(V, axis=0)**2) - np.sum(np.sum(V**2, axis=1)))"
   ]
  },
  {
   "cell_type": "code",
   "execution_count": null,
   "metadata": {
    "collapsed": true
   },
   "outputs": [],
   "source": [
    "# initialize parameters to optimize\n",
    "med = util.meddistance(rdat.data(), subsample=1000)\n",
    "gwidth0 = med**2\n",
    "\n",
    "# J = number of test locations\n",
    "J = 5\n",
    "Z_tr = datr_tr.data()\n",
    "V0 = util.subsample_rows(Z_tr, J, seed=seed+2)\n",
    "\n",
    "## Optimize\n",
    "opt_options = {\n",
    "    'reg': 1e-2,\n",
    "    'max_iter': 100,\n",
    "    'tol_fun': 1e-6,\n",
    "    'locs_bounds_frac': 100,\n",
    "    'gwidth_lb': 1e-1,\n",
    "    'gwidth_ub': 6**2,\n",
    "#     'added_obj': diversity_obj,\n",
    "}\n",
    "V_opt, gw_opt, opt_info = mct.DC_GaussFSSD.optimize_power_criterion(p, q, rdat, V0, gwidth0, **opt_options)\n"
   ]
  },
  {
   "cell_type": "code",
   "execution_count": null,
   "metadata": {},
   "outputs": [],
   "source": [
    "display(opt_info)"
   ]
  },
  {
   "cell_type": "code",
   "execution_count": null,
   "metadata": {},
   "outputs": [],
   "source": [
    "# test\n",
    "alpha = 0.01\n",
    "dcfssd_opt = mct.DC_GaussFSSD(p, q, gw_opt, gw_opt, V_opt, V_opt, alpha=alpha)\n",
    "dcfssd_opt.perform_test(datr_te)"
   ]
  },
  {
   "cell_type": "code",
   "execution_count": null,
   "metadata": {},
   "outputs": [],
   "source": [
    "dom = np.linspace(-3, 5, 200)[:, np.newaxis]\n",
    "pden = np.exp(p.log_normalized_den(dom))\n",
    "qden = np.exp(q.log_normalized_den(dom))\n",
    "\n",
    "# plot the data and the learned locations\n",
    "plt.figure(figsize=(8, 4))\n",
    "plt.plot(dom, pden, 'r-', label='p')\n",
    "plt.plot(dom, qden, 'b-', label='q')\n",
    "plt.hist(Z_tr, color='k', alpha=0.8, normed=True, label='R sample')\n",
    "for v in V_opt:\n",
    "    plt.plot(v[0], 0, '^', color='magenta', markersize=40)\n",
    "    \n",
    "plt.title('H1: q is closer to R')\n",
    "plt.legend(loc='lower left', bbox_to_anchor=(1, 0))"
   ]
  },
  {
   "cell_type": "code",
   "execution_count": null,
   "metadata": {
    "collapsed": true
   },
   "outputs": [],
   "source": []
  },
  {
   "cell_type": "code",
   "execution_count": null,
   "metadata": {
    "collapsed": true
   },
   "outputs": [],
   "source": []
  },
  {
   "cell_type": "code",
   "execution_count": null,
   "metadata": {
    "collapsed": true
   },
   "outputs": [],
   "source": []
  },
  {
   "cell_type": "code",
   "execution_count": null,
   "metadata": {
    "collapsed": true
   },
   "outputs": [],
   "source": []
  },
  {
   "cell_type": "code",
   "execution_count": null,
   "metadata": {
    "collapsed": true
   },
   "outputs": [],
   "source": []
  },
  {
   "cell_type": "code",
   "execution_count": null,
   "metadata": {
    "collapsed": true
   },
   "outputs": [],
   "source": []
  }
 ],
 "metadata": {
  "kernelspec": {
   "display_name": "Python 3",
   "language": "python",
   "name": "python3"
  },
  "language_info": {
   "codemirror_mode": {
    "name": "ipython",
    "version": 3
   },
   "file_extension": ".py",
   "mimetype": "text/x-python",
   "name": "python",
   "nbconvert_exporter": "python",
   "pygments_lexer": "ipython3",
   "version": "3.6.3"
  }
 },
 "nbformat": 4,
 "nbformat_minor": 1
}
