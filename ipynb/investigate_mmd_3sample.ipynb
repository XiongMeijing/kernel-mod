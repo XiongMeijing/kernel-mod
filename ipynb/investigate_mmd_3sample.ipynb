{
 "cells": [
  {
   "cell_type": "markdown",
   "metadata": {},
   "source": [
    "A notebook to investigate the behaviour of the MMD-based three-sample-test of Bounliphone et al.."
   ]
  },
  {
   "cell_type": "code",
   "execution_count": null,
   "metadata": {
    "collapsed": true
   },
   "outputs": [],
   "source": [
    "%load_ext autoreload\n",
    "%autoreload 2\n",
    "%matplotlib inline\n",
    "#%config InlineBackend.figure_format = 'svg'\n",
    "#%config InlineBackend.figure_format = 'pdf'\n",
    "\n",
    "import kmod\n",
    "import kgof\n",
    "import kgof.goftest as gof\n",
    "# submodules\n",
    "from kmod import data, density, kernel, util, plot\n",
    "from kmod import mctest as mct\n",
    "import matplotlib\n",
    "import matplotlib.pyplot as plt\n",
    "import autograd.numpy as np\n",
    "import scipy.stats as stats"
   ]
  },
  {
   "cell_type": "code",
   "execution_count": null,
   "metadata": {
    "collapsed": true
   },
   "outputs": [],
   "source": [
    "plot.set_default_matplotlib_options()\n",
    "# # font options\n",
    "# font = {\n",
    "#     #'family' : 'normal',\n",
    "#     #'weight' : 'bold',\n",
    "#     'size'   : 18\n",
    "# }\n",
    "\n",
    "# plt.rc('font', **font)\n",
    "# plt.rc('lines', linewidth=2)\n",
    "# matplotlib.rcParams['pdf.fonttype'] = 42\n",
    "# matplotlib.rcParams['ps.fonttype'] = 42"
   ]
  },
  {
   "cell_type": "markdown",
   "metadata": {},
   "source": [
    "## 1D Gaussian mean shift\n",
    "\n",
    "$$p = \\mathcal{N}(\\mu_p, 1)$$\n",
    "$$q = \\mathcal{N}(\\mu_q, 1)$$\n",
    "$$r = \\mathcal{N}(0, 1)$$\n",
    "\n",
    "Assume that $\\mu_p\\neq\\mu_q \\neq 0$ . Assume that a Gaussian kernel $k(x,y) = \\exp(-(x-y)^2/(2\\nu^2))$ is used. Then the exact form of MMD^2 is known (Garreau 2017).\n",
    "\n",
    "$$\\mathrm{MMD}^2(p, r) = \\frac{2\\nu}{\\sqrt{\\nu^2 + 2}} \\big( 1-\\exp\\big[ -\\frac{\\mu_p^2}{2(\\nu^2+2)} \\big] \\big)$$"
   ]
  },
  {
   "cell_type": "code",
   "execution_count": null,
   "metadata": {
    "collapsed": true
   },
   "outputs": [],
   "source": [
    "def mmd2_gauss(mu, gwidth):\n",
    "    \"\"\"\n",
    "    mu: mean of the model\n",
    "    gwidth: Gaussian width NOT squared\n",
    "    \"\"\"\n",
    "    nu = gwidth\n",
    "    scale = 2.0*nu/np.sqrt(nu**2 + 2.0)\n",
    "    main = 1.0 - np.exp(-mu**2/(2.0*(nu**2 + 2.0)))\n",
    "    return scale*main\n",
    "\n",
    "def stat_3sample(mup, muq, gwidth):\n",
    "#     print('{} {} {}'.format(mup, muq, gwidth))\n",
    "    return mmd2_gauss(mup, gwidth) - mmd2_gauss(muq, gwidth)"
   ]
  },
  {
   "cell_type": "code",
   "execution_count": null,
   "metadata": {
    "collapsed": true
   },
   "outputs": [],
   "source": [
    "def plot_stat_vs_width(mup, muq):\n",
    "    plt.figure(figsize=(8, 5))\n",
    "    dom = np.linspace(1e-2, 5, 200)\n",
    "    array_stat = stat_3sample(mup, muq, dom)\n",
    "    \n",
    "    plt.plot(dom, array_stat, 'r-')\n",
    "    plt.xlabel('Gaussian width')\n",
    "    plt.ylabel('stat')\n"
   ]
  },
  {
   "cell_type": "code",
   "execution_count": null,
   "metadata": {},
   "outputs": [],
   "source": [
    "# plot MMD vs width for a few values of mu\n",
    "mus = [0, 1, 2]\n",
    "plt.figure(figsize=(8, 5))\n",
    "dom = np.linspace(1e-2, 5, 200)\n",
    "for i, mu in enumerate(mus):\n",
    "    mmd2s = mmd2_gauss(mu, dom)\n",
    "    plt.plot(dom, mmd2s, label=r'$\\mu={}$'.format(mu))\n",
    "plt.xlabel('Gaussian width')\n",
    "plt.ylabel('Squared MMD')\n",
    "plt.legend(fontsize=22)"
   ]
  },
  {
   "cell_type": "code",
   "execution_count": null,
   "metadata": {},
   "outputs": [],
   "source": [
    "import ipywidgets\n",
    "from ipywidgets import interact, interactive, fixed\n",
    "from IPython.display import display\n",
    "import ipywidgets as widgets\n",
    "\n",
    "mup_slide = ipywidgets.FloatSlider(value=1, min=-3, max=3, step=0.5)\n",
    "muq_slide = ipywidgets.FloatSlider(value=0.5, min=-3, max=3.0, step=0.5)\n",
    "vs = interact(plot_stat_vs_width, mup=mup_slide, muq=muq_slide,)\n",
    "display(vs)"
   ]
  },
  {
   "cell_type": "code",
   "execution_count": null,
   "metadata": {
    "collapsed": true
   },
   "outputs": [],
   "source": []
  },
  {
   "cell_type": "code",
   "execution_count": null,
   "metadata": {
    "collapsed": true
   },
   "outputs": [],
   "source": []
  },
  {
   "cell_type": "code",
   "execution_count": null,
   "metadata": {
    "collapsed": true
   },
   "outputs": [],
   "source": []
  },
  {
   "cell_type": "code",
   "execution_count": null,
   "metadata": {
    "collapsed": true
   },
   "outputs": [],
   "source": []
  },
  {
   "cell_type": "code",
   "execution_count": null,
   "metadata": {
    "collapsed": true
   },
   "outputs": [],
   "source": []
  }
 ],
 "metadata": {
  "kernelspec": {
   "display_name": "Python 3",
   "language": "python",
   "name": "python3"
  },
  "language_info": {
   "codemirror_mode": {
    "name": "ipython",
    "version": 3
   },
   "file_extension": ".py",
   "mimetype": "text/x-python",
   "name": "python",
   "nbconvert_exporter": "python",
   "pygments_lexer": "ipython3",
   "version": "3.6.4"
  }
 },
 "nbformat": 4,
 "nbformat_minor": 2
}
