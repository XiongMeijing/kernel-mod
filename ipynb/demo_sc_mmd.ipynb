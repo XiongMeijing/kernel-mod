{
 "cells": [
  {
   "cell_type": "markdown",
   "metadata": {},
   "source": [
    "A notebook to illustrate/test `kmod.mctest.SC_MMD`."
   ]
  },
  {
   "cell_type": "code",
   "execution_count": 73,
   "metadata": {},
   "outputs": [
    {
     "name": "stdout",
     "output_type": "stream",
     "text": [
      "The autoreload extension is already loaded. To reload it, use:\n",
      "  %reload_ext autoreload\n"
     ]
    }
   ],
   "source": [
    "%load_ext autoreload\n",
    "%autoreload 2\n",
    "%matplotlib inline\n",
    "#%config InlineBackend.figure_format = 'svg'\n",
    "#%config InlineBackend.figure_format = 'pdf'\n",
    "\n",
    "import kmod\n",
    "import kgof\n",
    "import kgof.goftest as gof\n",
    "# submodules\n",
    "from kmod import data, density, kernel, util\n",
    "from kmod import mctest as mct\n",
    "import matplotlib\n",
    "import matplotlib.pyplot as plt\n",
    "import autograd.numpy as np\n",
    "import scipy.stats as stats"
   ]
  },
  {
   "cell_type": "code",
   "execution_count": 74,
   "metadata": {},
   "outputs": [],
   "source": [
    "# font options\n",
    "font = {\n",
    "    #'family' : 'normal',\n",
    "    #'weight' : 'bold',\n",
    "    'size'   : 18\n",
    "}\n",
    "\n",
    "plt.rc('font', **font)\n",
    "plt.rc('lines', linewidth=2)\n",
    "matplotlib.rcParams['pdf.fonttype'] = 42\n",
    "matplotlib.rcParams['ps.fonttype'] = 42"
   ]
  },
  {
   "cell_type": "markdown",
   "metadata": {},
   "source": [
    "## A simple 1d Gaussian problem"
   ]
  },
  {
   "cell_type": "markdown",
   "metadata": {},
   "source": [
    "Two models $P = \\mathcal{N}(\\mu_p, \\sigma_p^2)$ and $Q = \\mathcal{N}(\\mu_q, \\sigma^2_q)$. The data generating distribution is $R = \\mathcal{N}(0, 1)$.\n",
    "\n",
    "    H_0: P, Q are equally good\n",
    "    H_1: Q is better for approximating R"
   ]
  },
  {
   "cell_type": "markdown",
   "metadata": {},
   "source": [
    "### Case 1: $Q$ is actually better than $P$"
   ]
  },
  {
   "cell_type": "code",
   "execution_count": 75,
   "metadata": {},
   "outputs": [],
   "source": [
    "mp, varp = 0.55, 1.\n",
    "# q cannot be the true model. \n",
    "# That violates our assumption and the asymptotic null distribution\n",
    "# does not hold.\n",
    "mq, varq = 0.5, 1.\n",
    "# draw some data\n",
    "n = 600 # sample size\n",
    "seed = 8\n",
    "with util.NumpySeedContext(seed=seed):\n",
    "    X = np.random.randn(n, 1)*varp**0.5 + mp\n",
    "    Y = np.random.randn(n, 1)*varq**0.5 + mq\n",
    "    Z = np.random.randn(n, 1)\n",
    "    \n",
    "    datap = data.Data(X)\n",
    "    dataq = data.Data(Y)\n",
    "    datar = data.Data(Z)"
   ]
  },
  {
   "cell_type": "code",
   "execution_count": 76,
   "metadata": {
    "scrolled": true
   },
   "outputs": [
    {
     "name": "stderr",
     "output_type": "stream",
     "text": [
      "/usr/local/lib/python3.6/site-packages/matplotlib/axes/_axes.py:6462: UserWarning: The 'normed' kwarg is deprecated, and has been replaced by the 'density' kwarg.\n",
      "  warnings.warn(\"The 'normed' kwarg is deprecated, and has been \"\n"
     ]
    },
    {
     "data": {
      "text/plain": [
       "<matplotlib.legend.Legend at 0x10f73d0f0>"
      ]
     },
     "execution_count": 76,
     "metadata": {},
     "output_type": "execute_result"
    },
    {
     "data": {
      "image/png": "[encoded data removed]",
      "text/plain": [
       "<Figure size 576x288 with 1 Axes>"
      ]
     },
     "metadata": {},
     "output_type": "display_data"
    }
   ],
   "source": [
    "# plot the data\n",
    "plt.figure(figsize=(8, 4))\n",
    "plt.hist(X, color='r', alpha=0.6, normed=True, label='X')\n",
    "plt.hist(Y, color='b', alpha=0.6, normed=True, label='Y')\n",
    "plt.hist(Z, color='k', alpha=0.8, normed=True, label='Z')\n",
    "plt.title('H1: Y is closer to Z')\n",
    "plt.legend()"
   ]
  },
  {
   "cell_type": "markdown",
   "metadata": {},
   "source": [
    "### Use median heuristic for the Gaussian widths"
   ]
  },
  {
   "cell_type": "code",
   "execution_count": 77,
   "metadata": {},
   "outputs": [],
   "source": [
    "# hyperparameters of the test\n",
    "medxz = util.meddistance(np.vstack((X, Z)), subsample=1000)\n",
    "medyz = util.meddistance(np.vstack((Y, Z)), subsample=1000)\n",
    "medxyz = np.mean([medxz, medyz])\n",
    "k = kernel.KGauss(sigma2=medxyz**2)"
   ]
  },
  {
   "cell_type": "code",
   "execution_count": 78,
   "metadata": {},
   "outputs": [
    {
     "data": {
      "text/plain": [
       "{'alpha': 0.01,\n",
       " 'pvalue': 1.639164547048069e-17,\n",
       " 'test_stat': 0.09897013695467394,\n",
       " 'h0_rejected': True,\n",
       " 'time_secs': 0.14039111137390137}"
      ]
     },
     "execution_count": 78,
     "metadata": {},
     "output_type": "execute_result"
    }
   ],
   "source": [
    "# construct a MMD similarity test\n",
    "alpha = 0.01 # significance level \n",
    "scummd = mct.SC_MMD(datap, dataq, k, alpha=alpha)\n",
    "scummd.perform_test(datar)"
   ]
  },
  {
   "cell_type": "markdown",
   "metadata": {},
   "source": [
    "### Case 2: Two models are equally good. "
   ]
  },
  {
   "cell_type": "code",
   "execution_count": 79,
   "metadata": {},
   "outputs": [],
   "source": [
    "mp, varp = 0.5, 1.\n",
    "# q cannot be the true model. \n",
    "# That violates our assumption and the asymptotic null distribution\n",
    "# does not hold.\n",
    "mq, varq = 0.5, 1.\n",
    "# draw some data\n",
    "n = 600 # sample size\n",
    "seed = 8\n",
    "with util.NumpySeedContext(seed=seed):\n",
    "    X = np.random.randn(n, 1)*varp**0.5 + mp\n",
    "    Y = np.random.randn(n, 1)*varq**0.5 + mq\n",
    "    Z = np.random.randn(n, 1)\n",
    "    \n",
    "    datap = data.Data(X)\n",
    "    dataq = data.Data(Y)\n",
    "    datar = data.Data(Z)"
   ]
  },
  {
   "cell_type": "code",
   "execution_count": 80,
   "metadata": {},
   "outputs": [],
   "source": [
    "# hyperparameters of the test\n",
    "medxz = util.meddistance(np.vstack((X, Z)), subsample=1000)\n",
    "medyz = util.meddistance(np.vstack((Y, Z)), subsample=1000)\n",
    "medxyz = np.mean([medxz, medyz])\n",
    "k = kernel.KGauss(sigma2=medxyz**2)"
   ]
  },
  {
   "cell_type": "code",
   "execution_count": 81,
   "metadata": {},
   "outputs": [
    {
     "data": {
      "text/plain": [
       "{'alpha': 0.01,\n",
       " 'pvalue': 1.0,\n",
       " 'test_stat': -0.11272538080104455,\n",
       " 'h0_rejected': False,\n",
       " 'time_secs': 0.1384880542755127}"
      ]
     },
     "execution_count": 81,
     "metadata": {},
     "output_type": "execute_result"
    }
   ],
   "source": [
    "# construct a MMD similarity test\n",
    "alpha = 0.01 # significance level \n",
    "scummd = mct.SC_MMD(datap, dataq, k, alpha=alpha)\n",
    "scummd.perform_test(datar)"
   ]
  },
  {
   "cell_type": "markdown",
   "metadata": {},
   "source": [
    "# Debugging\n",
    "\n",
    "Normal usage will not need the following code. The following code is here for checking the implementation during the development."
   ]
  },
  {
   "cell_type": "markdown",
   "metadata": {},
   "source": [
    "Check the asymptotic distribution of the SC_UME statistic."
   ]
  },
  {
   "cell_type": "code",
   "execution_count": null,
   "metadata": {},
   "outputs": [],
   "source": [
    "def gen_test_samples(n, seed):\n",
    "    \"\"\"\n",
    "    Return datap, dataq, datar\n",
    "    \"\"\"\n",
    "    mp, varp = 2, 1\n",
    "    mq, varq = 1, 1\n",
    "\n",
    "    # draw some data\n",
    "    \n",
    "    with util.NumpySeedContext(seed=seed):\n",
    "        X = np.random.randn(n, 1)*varp**0.5 + mp\n",
    "        Y = np.random.randn(n, 1)*varq**0.5 + mq\n",
    "        Z = np.random.randn(n, 1)\n",
    "\n",
    "        datap = data.Data(X)\n",
    "        dataq = data.Data(Y)\n",
    "        datar = data.Data(Z)\n",
    "    return datap, dataq, datar"
   ]
  },
  {
   "cell_type": "code",
   "execution_count": null,
   "metadata": {},
   "outputs": [],
   "source": [
    "seed = 988\n",
    "n = 500 # sample size\n",
    "datap, dataq, datar = gen_test_samples(n, seed)\n",
    "X, Y, Z = [a.data() for a in [datap, dataq, datar]]"
   ]
  },
  {
   "cell_type": "code",
   "execution_count": null,
   "metadata": {},
   "outputs": [],
   "source": [
    "# plot the data\n",
    "plt.figure(figsize=(8, 4))\n",
    "plt.hist(X, color='r', alpha=0.6, normed=True, label='X')\n",
    "plt.hist(Y, color='b', alpha=0.6, normed=True, label='Y')\n",
    "plt.hist(Z, color='k', alpha=0.8, normed=True, label='Z')\n",
    "plt.title('H1: Y is closer to Z')\n",
    "plt.legend()"
   ]
  },
  {
   "cell_type": "code",
   "execution_count": null,
   "metadata": {},
   "outputs": [],
   "source": [
    "# hyperparameters of the test\n",
    "medxz = util.meddistance(np.vstack((X, Z)), subsample=1000)\n",
    "medyz = util.meddistance(np.vstack((Z, Y)), subsample=1000)\n",
    "k = kernel.KGauss(sigma2=medxz**2)\n",
    "l = kernel.KGauss(sigma2=medyz**2)\n",
    "\n",
    "# 2 sets of test locations\n",
    "J = 2\n",
    "Jp = J\n",
    "Jq = J\n",
    "V = util.fit_gaussian_draw(X, Jp, seed=seed+2)\n",
    "W = util.fit_gaussian_draw(Y, Jq, seed=seed+3)"
   ]
  },
  {
   "cell_type": "code",
   "execution_count": null,
   "metadata": {},
   "outputs": [],
   "source": [
    "# number of times to create a new problem (draw new samples)\n",
    "trials = 300\n",
    "null_stats = np.zeros(trials)\n",
    "alpha = 0.01 # significance level \n",
    "\n",
    "for t in range(trials):\n",
    "    datap, dataq, datar = gen_test_samples(n, seed=t+83)\n",
    "    # create a UME test\n",
    "    \n",
    "    scume = mct.SC_UME(datap, dataq, k, l, V, W, alpha=alpha)\n",
    "    null_stats[t] = scume.compute_stat(datar)\n",
    "\n",
    "# use the data in the last trial to perform test\n",
    "results = scume.perform_test(datar)\n",
    "\n",
    "display(results)"
   ]
  },
  {
   "cell_type": "code",
   "execution_count": null,
   "metadata": {},
   "outputs": [],
   "source": [
    "# get the parameters of the asymptotic null distribution\n",
    "_, var_h0 = scume.get_H1_mean_variance(datar, return_variance=True)\n",
    "dom =  np.linspace(np.min(null_stats)-1, np.max(null_stats)+2, 300)\n",
    "ph0_values = stats.norm.pdf(dom, loc=0, scale=var_h0**0.5)"
   ]
  },
  {
   "cell_type": "code",
   "execution_count": null,
   "metadata": {},
   "outputs": [],
   "source": [
    "# histogram of the null stats\n",
    "plt.figure(figsize=(8, 5))\n",
    "\n",
    "plt.plot(dom, ph0_values, 'r-', label='Asymp. null dist.')\n",
    "plt.hist(null_stats, label='Empirical ground truth', alpha=0.7, bins=15, normed=True);\n",
    "# plt.hist(sim_stats, label='Asymptotic', alpha=0.7, bins=15, normed=True)\n",
    "plt.legend()"
   ]
  },
  {
   "cell_type": "markdown",
   "metadata": {},
   "source": [
    "When $H_0$ is true, the asymptotic null distribution is expected to be to the right of the empirically obtained statistics. This means that we will have type-I error which is lower than $\\alpha$, but lose a bit of test power."
   ]
  },
  {
   "cell_type": "code",
   "execution_count": null,
   "metadata": {},
   "outputs": [],
   "source": []
  },
  {
   "cell_type": "code",
   "execution_count": null,
   "metadata": {},
   "outputs": [],
   "source": []
  },
  {
   "cell_type": "code",
   "execution_count": null,
   "metadata": {},
   "outputs": [],
   "source": []
  },
  {
   "cell_type": "code",
   "execution_count": null,
   "metadata": {},
   "outputs": [],
   "source": []
  },
  {
   "cell_type": "code",
   "execution_count": null,
   "metadata": {},
   "outputs": [],
   "source": []
  },
  {
   "cell_type": "code",
   "execution_count": null,
   "metadata": {},
   "outputs": [],
   "source": []
  },
  {
   "cell_type": "code",
   "execution_count": null,
   "metadata": {},
   "outputs": [],
   "source": []
  },
  {
   "cell_type": "code",
   "execution_count": null,
   "metadata": {},
   "outputs": [],
   "source": []
  }
 ],
 "metadata": {
  "kernelspec": {
   "display_name": "Python 3",
   "language": "python",
   "name": "python3"
  },
  "language_info": {
   "codemirror_mode": {
    "name": "ipython",
    "version": 3
   },
   "file_extension": ".py",
   "mimetype": "text/x-python",
   "name": "python",
   "nbconvert_exporter": "python",
   "pygments_lexer": "ipython3",
   "version": "3.6.5"
  }
 },
 "nbformat": 4,
 "nbformat_minor": 2
}
