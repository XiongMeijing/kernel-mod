{
 "cells": [
  {
   "cell_type": "markdown",
   "metadata": {
    "collapsed": true
   },
   "source": [
    "A notebook to process experimental results of ex1_vary_n.py: Rejection rate as sample size $n$ increases."
   ]
  },
  {
   "cell_type": "code",
   "execution_count": null,
   "metadata": {
    "collapsed": true
   },
   "outputs": [],
   "source": [
    "%load_ext autoreload\n",
    "%autoreload 2\n",
    "%matplotlib inline\n",
    "#%config InlineBackend.figure_format = 'svg'\n",
    "#%config InlineBackend.figure_format = 'pdf'\n",
    "\n",
    "import autograd.numpy as np\n",
    "\n",
    "import kmod.plot as plot\n",
    "import matplotlib\n",
    "import matplotlib.pyplot as plt\n",
    "\n",
    "import scipy.stats as stats"
   ]
  },
  {
   "cell_type": "code",
   "execution_count": null,
   "metadata": {
    "collapsed": true
   },
   "outputs": [],
   "source": [
    "plot.set_default_matplotlib_options()"
   ]
  },
  {
   "cell_type": "code",
   "execution_count": null,
   "metadata": {
    "collapsed": true
   },
   "outputs": [],
   "source": [
    "def load_plot_vs_params(fname, xlabel='Problem parameter', show_legend=True, \n",
    "                        xscale='linear', yscale='linear'):\n",
    "    func_xvalues = lambda agg_results: agg_results['prob_params']\n",
    "    ex = 2\n",
    "    def func_title(agg_results):\n",
    "        repeats, _, n_methods = agg_results['job_results'].shape\n",
    "        alpha = agg_results['alpha']\n",
    "        sample_size = agg_results['sample_size']\n",
    "#         title = r'%s. %d trials. Sample size: %d. $\\alpha$ = %.2g.'%\\\n",
    "#             ( agg_results['prob_label'], repeats, sample_size, alpha)\n",
    "        title = 'n = {}'.format(sample_size)\n",
    "        return title\n",
    "    #plt.figure(figsize=(10,5))\n",
    "    results = plot.plot_prob_reject(\n",
    "        ex, fname, func_xvalues, xlabel, func_title=func_title)\n",
    "    \n",
    "    plt.title('')\n",
    "    plt.gca().legend(loc='upper right').set_visible(show_legend)\n",
    "    if show_legend:\n",
    "        plt.legend(bbox_to_anchor=(1.00, 1.08))\n",
    "    \n",
    "    plt.grid(False)\n",
    "    \n",
    "    #plt.grid(True)\n",
    "    if xscale is not None:\n",
    "        plt.xscale(xscale)\n",
    "    if yscale is not None:\n",
    "        plt.yscale(yscale)\n",
    "    return results\n"
   ]
  },
  {
   "cell_type": "code",
   "execution_count": null,
   "metadata": {
    "collapsed": true
   },
   "outputs": [],
   "source": [
    "def load_runtime_vs_params(fname, xlabel='Problem parameter', \n",
    "                      show_legend=True, xscale='linear', yscale='linear'):\n",
    "    func_xvalues = lambda agg_results: agg_results['prob_params']\n",
    "    ex = 2\n",
    "    def func_title(agg_results):\n",
    "        repeats, _, n_methods = agg_results['job_results'].shape\n",
    "        alpha = agg_results['alpha']\n",
    "        title = '%s. %d trials. $\\\\alpha$ = %.2g.'%\\\n",
    "            ( agg_results['prob_label'], repeats, alpha)\n",
    "        return title\n",
    "    \n",
    "    #plt.figure(figsize=(10,6))\n",
    "    \n",
    "    results = plot.plot_runtime(ex, fname,  \n",
    "                                func_xvalues, xlabel=xlabel, func_title=func_title)\n",
    "    \n",
    "    plt.title('')\n",
    "    plt.gca().legend(loc='best').set_visible(show_legend)\n",
    "    if show_legend:\n",
    "        plt.legend(bbox_to_anchor=(1.80, 1.05))\n",
    "    \n",
    "    plt.grid(False)\n",
    "    if xscale is not None:\n",
    "        plt.xscale(xscale)\n",
    "    if yscale is not None:\n",
    "        plt.yscale(yscale)\n",
    "        \n",
    "    return results\n"
   ]
  },
  {
   "cell_type": "markdown",
   "metadata": {},
   "source": [
    "----------"
   ]
  },
  {
   "cell_type": "markdown",
   "metadata": {},
   "source": [
    "## 1D Gaussian problem. "
   ]
  },
  {
   "cell_type": "markdown",
   "metadata": {},
   "source": [
    "$$ p = \\mathcal{N}(\\mu_p, 1)$$\n",
    "$$ q = \\mathcal{N}(0.5, 1)$$\n",
    "$$ r = \\mathcal{N}(0, 1)$$\n"
   ]
  },
  {
   "cell_type": "code",
   "execution_count": null,
   "metadata": {
    "collapsed": true
   },
   "outputs": [],
   "source": [
    "# gauss1d_fname = 'ex2-stdnorm_shift_d1-me4_n300_rs50_pmi0.4_pma0.7_a0.050.p'\n",
    "# gauss1d_results = load_plot_vs_params(gauss1d_fname, show_legend=True, xlabel='$\\mu_P$')\n",
    "# # plt.yticks([0, 0.025, 0.05, 0.075, 0.1])\n",
    "# plt.xticks([0.4, 0.5, 0.6, 0.7])\n",
    "# plt.yticks([0, 0.05, 0.5, 1], ['0', '', '0.5', '1'])\n",
    "# plt.grid()\n",
    "# plt.savefig(gauss1d_fname.replace('.p', '.pdf', 1), bbox_inches='tight')"
   ]
  },
  {
   "cell_type": "code",
   "execution_count": null,
   "metadata": {
    "collapsed": true
   },
   "outputs": [],
   "source": [
    "# load_runtime_vs_params(gauss1d_fname, show_legend=False);\n",
    "# # plt.yticks([0, 100, 200, 300])\n",
    "# plt.savefig(gauss1d_fname.replace('.p', '_time.pdf', 1), bbox_inches='tight',\n",
    "#            show_legend=False)"
   ]
  },
  {
   "cell_type": "markdown",
   "metadata": {
    "collapsed": true
   },
   "source": [
    "--------"
   ]
  },
  {
   "cell_type": "code",
   "execution_count": null,
   "metadata": {
    "collapsed": true
   },
   "outputs": [],
   "source": [
    "# fname = 'ex2-stdnorm_shift_d10-me4_n300_rs50_pmi0.4_pma0.7_a0.050.p'\n",
    "# results = load_plot_vs_params(fname, show_legend=True, xlabel='$\\mu_P$')\n",
    "\n",
    "# plt.xticks([0.4, 0.5, 0.6, 0.7])\n",
    "# plt.yticks([0, 0.05, 0.5, 1], ['0', '', '0.5', '1'])\n",
    "# plt.grid()\n",
    "# plt.savefig(fname.replace('.p', '.pdf', 1), bbox_inches='tight')\n"
   ]
  },
  {
   "cell_type": "code",
   "execution_count": null,
   "metadata": {
    "collapsed": true
   },
   "outputs": [],
   "source": [
    "# load_runtime_vs_params(fname, show_legend=False);\n",
    "# plt.savefig(fname.replace('.p', '_time.pdf', 1), bbox_inches='tight',\n",
    "#            show_legend=False)"
   ]
  },
  {
   "cell_type": "markdown",
   "metadata": {
    "collapsed": true
   },
   "source": [
    "----------------"
   ]
  },
  {
   "cell_type": "code",
   "execution_count": null,
   "metadata": {},
   "outputs": [],
   "source": [
    "# fname = 'ex2-stdnorm_shift_d20-me4_n500_rs50_pmi0.4_pma0.7_a0.050.p'\n",
    "# results = load_plot_vs_params(fname, show_legend=True, xlabel='$\\mu_P$')\n",
    "\n",
    "# plt.xticks([0.4, 0.5, 0.6, 0.7])\n",
    "# plt.yticks([0, 0.05, 0.5, 1], ['0', '', '0.5', '1'])\n",
    "# plt.grid()\n",
    "# plt.savefig(fname.replace('.p', '.pdf', 1), bbox_inches='tight')\n"
   ]
  },
  {
   "cell_type": "code",
   "execution_count": null,
   "metadata": {},
   "outputs": [],
   "source": [
    "# load_runtime_vs_params(fname, show_legend=False);\n",
    "# plt.savefig(fname.replace('.p', '_time.pdf', 1), bbox_inches='tight',\n",
    "#            show_legend=False)"
   ]
  },
  {
   "cell_type": "markdown",
   "metadata": {},
   "source": [
    "--------------"
   ]
  },
  {
   "cell_type": "code",
   "execution_count": null,
   "metadata": {
    "collapsed": true
   },
   "outputs": [],
   "source": [
    "# fname = 'ex2-gbrbm_dx10_dh5-me6_n600_rs200_pmi0.1_pma0.6_a0.050.p'\n",
    "# results = load_plot_vs_params(fname, show_legend=True, xlabel='Perturbation')\n",
    "\n",
    "# plt.xticks([0.2, 0.3, 0.4, 0.5])\n",
    "# plt.yticks([0.05, 0.5, 1], ['0.05', '0.5', '1'])\n",
    "# plt.grid()\n",
    "# plt.savefig(fname.replace('.p', '.pdf', 1), bbox_inches='tight')\n"
   ]
  },
  {
   "cell_type": "code",
   "execution_count": null,
   "metadata": {
    "collapsed": true
   },
   "outputs": [],
   "source": [
    "# load_runtime_vs_params(fname, show_legend=False);\n",
    "# plt.savefig(fname.replace('.p', '_time.pdf', 1), bbox_inches='tight',\n",
    "#            show_legend=False)"
   ]
  },
  {
   "cell_type": "markdown",
   "metadata": {},
   "source": [
    "--------------"
   ]
  },
  {
   "cell_type": "code",
   "execution_count": null,
   "metadata": {},
   "outputs": [],
   "source": [
    "fname = 'ex2-gbrbm_dx20_dh5-me5_n2000_rs200_pmi0.2_pma0.7_a0.050.p'\n",
    "results = load_plot_vs_params(fname, show_legend=True, xlabel='Perturbation')\n",
    "\n",
    "# plt.xticks([0.2, 0.3, 0.4, 0.5])\n",
    "# plt.yticks([0, 0.05, 0.5], ['0', '', '0.5'])\n",
    "plt.grid()\n",
    "plt.savefig(fname.replace('.p', '.pdf', 1), bbox_inches='tight')\n"
   ]
  },
  {
   "cell_type": "code",
   "execution_count": null,
   "metadata": {},
   "outputs": [],
   "source": [
    "load_runtime_vs_params(fname, show_legend=False);\n",
    "plt.savefig(fname.replace('.p', '_time.pdf', 1), bbox_inches='tight',\n",
    "           show_legend=False)"
   ]
  },
  {
   "cell_type": "markdown",
   "metadata": {},
   "source": [
    "---------------"
   ]
  },
  {
   "cell_type": "code",
   "execution_count": null,
   "metadata": {},
   "outputs": [],
   "source": [
    "# fname = 'ex2-gbrbm_dx30_dh10-me6_n800_rs50_pmi0.1_pma0.5_a0.050.p'\n",
    "# results = load_plot_vs_params(fname, show_legend=True, xlabel='Perturbation')\n",
    "\n",
    "# plt.xticks([0.2, 0.3, 0.4, 0.5])\n",
    "# plt.yticks([0, 0.05, 0.5], ['0', '', '0.5'])\n",
    "# plt.grid()\n",
    "# plt.savefig(fname.replace('.p', '.pdf', 1), bbox_inches='tight')\n"
   ]
  },
  {
   "cell_type": "code",
   "execution_count": null,
   "metadata": {},
   "outputs": [],
   "source": [
    "# load_runtime_vs_params(fname, show_legend=False);\n",
    "# plt.savefig(fname.replace('.p', '_time.pdf', 1), bbox_inches='tight',\n",
    "#            show_legend=False)"
   ]
  },
  {
   "cell_type": "code",
   "execution_count": null,
   "metadata": {
    "collapsed": true
   },
   "outputs": [],
   "source": []
  },
  {
   "cell_type": "code",
   "execution_count": null,
   "metadata": {
    "collapsed": true
   },
   "outputs": [],
   "source": []
  },
  {
   "cell_type": "code",
   "execution_count": null,
   "metadata": {
    "collapsed": true
   },
   "outputs": [],
   "source": []
  },
  {
   "cell_type": "code",
   "execution_count": null,
   "metadata": {
    "collapsed": true
   },
   "outputs": [],
   "source": []
  }
 ],
 "metadata": {
  "anaconda-cloud": {},
  "kernelspec": {
   "display_name": "Python 3",
   "language": "python",
   "name": "python3"
  },
  "language_info": {
   "codemirror_mode": {
    "name": "ipython",
    "version": 3
   },
   "file_extension": ".py",
   "mimetype": "text/x-python",
   "name": "python",
   "nbconvert_exporter": "python",
   "pygments_lexer": "ipython3",
   "version": "3.6.3"
  }
 },
 "nbformat": 4,
 "nbformat_minor": 1
}
