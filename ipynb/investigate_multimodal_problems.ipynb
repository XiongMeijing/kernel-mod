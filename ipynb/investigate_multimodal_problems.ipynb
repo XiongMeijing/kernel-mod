{
 "cells": [
  {
   "cell_type": "markdown",
   "metadata": {},
   "source": [
    "Investigate a toy problem in which r (data distribution) is multimodal, p and q can capture only some modes."
   ]
  },
  {
   "cell_type": "code",
   "execution_count": null,
   "metadata": {},
   "outputs": [],
   "source": [
    "%load_ext autoreload\n",
    "%autoreload 2\n",
    "%matplotlib inline\n",
    "#%config InlineBackend.figure_format = 'svg'\n",
    "#%config InlineBackend.figure_format = 'pdf'\n",
    "\n",
    "import kmod\n",
    "import kgof\n",
    "import kgof.goftest as gof\n",
    "# submodules\n",
    "from kmod import data, density, kernel, util\n",
    "from kmod import mctest as mct\n",
    "import matplotlib\n",
    "import matplotlib.pyplot as plt\n",
    "import autograd.numpy as np\n",
    "import scipy.stats as stats"
   ]
  },
  {
   "cell_type": "code",
   "execution_count": null,
   "metadata": {},
   "outputs": [],
   "source": [
    "# font options\n",
    "font = {\n",
    "    #'family' : 'normal',\n",
    "    #'weight' : 'bold',\n",
    "    'size'   : 20\n",
    "}\n",
    "\n",
    "plt.rc('font', **font)\n",
    "plt.rc('lines', linewidth=2)\n",
    "matplotlib.rcParams['pdf.fonttype'] = 42\n",
    "matplotlib.rcParams['ps.fonttype'] = 42"
   ]
  },
  {
   "cell_type": "markdown",
   "metadata": {},
   "source": [
    "## 1D Gaussian mixture problem"
   ]
  },
  {
   "cell_type": "code",
   "execution_count": null,
   "metadata": {},
   "outputs": [],
   "source": [
    "# mean of bump 1, 2, 3\n",
    "m1, m2, m3 = 0, 15, 20\n",
    "means = np.array([m1, m2, m3])\n",
    "p = density.IsotropicNormal(np.array([m1]), 1)\n",
    "q = density.IsoGaussianMixture(np.array([[m1, m2-2]]).T, np.array([1, 0.1]))\n",
    "r = density.IsoGaussianMixture(np.array([[m2, m3]]).T, np.array([0.1, 1]), pmix=[0.5, 0.5])\n"
   ]
  },
  {
   "cell_type": "code",
   "execution_count": null,
   "metadata": {},
   "outputs": [],
   "source": [
    "# plot the densities\n",
    "dom = np.linspace(np.min(means)-4, np.max(means)+3, 200)[:, np.newaxis]\n",
    "denp = np.exp(p.log_normalized_den(dom))\n",
    "denq = np.exp(q.log_normalized_den(dom))\n",
    "denr = np.exp(r.log_normalized_den(dom))\n",
    "\n",
    "plt.figure(figsize=(8, 5))\n",
    "plt.plot(dom, denp, 'r-', label='p')\n",
    "plt.plot(dom, denq, 'b-', label='q')\n",
    "plt.plot(dom, denr, 'k-', label='r')\n",
    "plt.legend()"
   ]
  },
  {
   "cell_type": "code",
   "execution_count": null,
   "metadata": {},
   "outputs": [],
   "source": [
    "# sample\n",
    "n = 200\n",
    "seed = 35\n",
    "dsp, dsq, dsr = [P.get_datasource() for P in [p, q, r]]\n",
    "datp, datq, datr = [ds.sample(n, seed=seed) for ds in [dsp, dsq, dsr]]\n",
    "X, Y, Z = [D.data() for D in [datp, datq, datr]]\n",
    "\n",
    "# see the samples\n",
    "plt.figure(figsize=(8, 5))\n",
    "a = 0.6\n",
    "plt.hist(X, color='r', alpha=a, normed=True, label='X')\n",
    "plt.hist(Y, color='b', alpha=a, normed=True, label='Y')\n",
    "plt.hist(Z, color='k', alpha=a, normed=True, label='Z');\n",
    "plt.legend()"
   ]
  },
  {
   "cell_type": "code",
   "execution_count": null,
   "metadata": {},
   "outputs": [],
   "source": [
    "# median heuristic\n",
    "medxz = util.meddistance(np.vstack((X, Z)), subsample=1000)\n",
    "medyz = util.meddistance(np.vstack((Y, Z)), subsample=1000)\n",
    "print('medzy = {:.4g}, medyz = {:.4g}'.format(medxz, medyz))\n",
    "\n",
    "# kernels from the median heuristic\n",
    "mean_med = np.mean([medxz, medyz]) \n",
    "sigma2 = mean_med**2\n",
    "print('mean_med = {:.4g}'.format(mean_med))\n",
    "k = kernel.KGauss(sigma2=sigma2)"
   ]
  },
  {
   "cell_type": "code",
   "execution_count": null,
   "metadata": {},
   "outputs": [],
   "source": [
    "alpha = 0.05\n",
    "scmmd = mct.SC_MMD(datp, datq, k, alpha=alpha)\n",
    "scmmd.perform_test(datr)\n"
   ]
  },
  {
   "cell_type": "markdown",
   "metadata": {},
   "source": [
    "## 1D Gaussian mixture problem 2"
   ]
  },
  {
   "cell_type": "code",
   "execution_count": null,
   "metadata": {},
   "outputs": [],
   "source": [
    "# mean of bump 1, 2, 3\n",
    "m1, m2, m3 = 0, 3, 3\n",
    "means = np.array([m1, m2, m3])\n",
    "p = density.IsotropicNormal(np.array([m1]), 1)\n",
    "q = density.IsoGaussianMixture(np.array([[m1, m2-1]]).T, np.array([1, 0.2**2]), pmix=[0.2, 0.8])\n",
    "r = density.IsotropicNormal(np.array([m3]), 0.2**2)\n"
   ]
  },
  {
   "cell_type": "code",
   "execution_count": null,
   "metadata": {},
   "outputs": [],
   "source": [
    "# plot the densities\n",
    "dom = np.linspace(np.min(means)-4, np.max(means)+3, 200)[:, np.newaxis]\n",
    "denp = np.exp(p.log_normalized_den(dom))\n",
    "denq = np.exp(q.log_normalized_den(dom))\n",
    "denr = np.exp(r.log_normalized_den(dom))\n",
    "\n",
    "plt.figure(figsize=(8, 5))\n",
    "plt.plot(dom, denp, 'r-', label='p')\n",
    "plt.plot(dom, denq, 'b-', label='q')\n",
    "plt.plot(dom, denr, 'k-', label='r')\n",
    "plt.legend()"
   ]
  },
  {
   "cell_type": "code",
   "execution_count": null,
   "metadata": {},
   "outputs": [],
   "source": [
    "# sample\n",
    "n = 300\n",
    "seed = 35\n",
    "dsp, dsq, dsr = [P.get_datasource() for P in [p, q, r]]\n",
    "datp, datq, datr = [ds.sample(n, seed=seed) for ds in [dsp, dsq, dsr]]\n",
    "X, Y, Z = [D.data() for D in [datp, datq, datr]]\n",
    "\n",
    "# see the samples\n",
    "plt.figure(figsize=(8, 5))\n",
    "a = 0.6\n",
    "plt.hist(X, color='r', alpha=a, normed=True, label='X')\n",
    "plt.hist(Y, color='b', alpha=a, normed=True, label='Y')\n",
    "plt.hist(Z, color='k', alpha=a, normed=True, label='Z');\n",
    "plt.legend()"
   ]
  },
  {
   "cell_type": "code",
   "execution_count": null,
   "metadata": {},
   "outputs": [],
   "source": [
    "# median heuristic\n",
    "medxz = util.meddistance(np.vstack((X, Z)), subsample=1000)\n",
    "medyz = util.meddistance(np.vstack((Y, Z)), subsample=1000)\n",
    "print('medzy = {:.4g}, medyz = {:.4g}'.format(medxz, medyz))\n",
    "\n",
    "# kernels from the median heuristic\n",
    "mean_med = np.mean([medxz, medyz]) \n",
    "sigma2 = mean_med**2\n",
    "print('mean_med = {:.4g}'.format(mean_med))\n",
    "k = kernel.KGauss(sigma2=sigma2)"
   ]
  },
  {
   "cell_type": "code",
   "execution_count": null,
   "metadata": {},
   "outputs": [],
   "source": [
    "alpha = 0.05\n",
    "scmmd = mct.SC_MMD(datp, datq, k, alpha=alpha)\n",
    "scmmd.perform_test(datr)\n"
   ]
  },
  {
   "cell_type": "markdown",
   "metadata": {},
   "source": [
    "## 2d grid of Gaussian mixture components"
   ]
  },
  {
   "cell_type": "code",
   "execution_count": null,
   "metadata": {},
   "outputs": [],
   "source": [
    "def rot2d_matrix(angle):\n",
    "    import math\n",
    "    r = np.array( [[math.cos(angle), -math.sin(angle)], [math.sin(angle), math.cos(angle)]] )\n",
    "    return r\n",
    "\n",
    "def rot2d_cov(angle, cov):\n",
    "    R = rot2d_matrix(angle)\n",
    "    return np.dot(np.dot(R, cov), R.T)"
   ]
  },
  {
   "cell_type": "code",
   "execution_count": null,
   "metadata": {},
   "outputs": [],
   "source": [
    "means = np.array([[-1.0, 1], [1, 1], [-1, -1], [1, -1]])*5\n",
    "base_cov = np.array([[4.0, 0], [0, 0.5]])\n",
    "\n",
    "# 4 isotropic covariance matrices in 2d\n",
    "covr = np.tile(base_cov, [4, 1, 1])\n",
    "covq = np.tile(rot2d_cov(np.pi/5.0, base_cov), [4, 1, 1])\n",
    "covp = np.tile(rot2d_cov(np.pi/2.0, base_cov), [4, 1, 1])\n",
    "\n",
    "p = density.GaussianMixture(means, covp)\n",
    "q = density.GaussianMixture(means, covq)\n",
    "r = density.GaussianMixture(means, covr)"
   ]
  },
  {
   "cell_type": "code",
   "execution_count": null,
   "metadata": {},
   "outputs": [],
   "source": [
    "# sample\n",
    "n = 400\n",
    "seed = 37\n",
    "dsp, dsq, dsr = [P.get_datasource() for P in [p, q, r]]\n",
    "datp, datq, datr = [ds.sample(n, seed=seed) for ds in [dsp, dsq, dsr]]\n",
    "X, Y, Z = [D.data() for D in [datp, datq, datr]]"
   ]
  },
  {
   "cell_type": "code",
   "execution_count": null,
   "metadata": {},
   "outputs": [],
   "source": [
    "# see the samples in 2D\n",
    "plt.figure(figsize=(8, 5))\n",
    "a = 0.6\n",
    "plt.plot(X[:, 0], X[:, 1], 'r.', label='X', alpha=a)\n",
    "plt.plot(Y[:, 0], Y[:, 1], 'b.', label='Y', alpha=a)\n",
    "plt.plot(Z[:, 0], Z[:, 1], 'k.', label='Z', alpha=a)\n",
    "plt.legend()"
   ]
  },
  {
   "cell_type": "code",
   "execution_count": null,
   "metadata": {},
   "outputs": [],
   "source": [
    "# median heuristic\n",
    "medxz = util.meddistance(np.vstack((X, Z)), subsample=1000)\n",
    "medyz = util.meddistance(np.vstack((Y, Z)), subsample=1000)\n",
    "print('medzy = {:.4g}, medyz = {:.4g}'.format(medxz, medyz))\n",
    "\n",
    "# kernels from the median heuristic\n",
    "mean_med = np.mean([medxz, medyz]) \n",
    "sigma2 = mean_med**2\n",
    "print('mean_med = {:.4g}'.format(mean_med))\n",
    "k = kernel.KGauss(sigma2=10**2)"
   ]
  },
  {
   "cell_type": "code",
   "execution_count": null,
   "metadata": {},
   "outputs": [],
   "source": [
    "alpha = 0.05\n",
    "scmmd = mct.SC_MMD(datp, datq, k, alpha=alpha)\n",
    "scmmd.perform_test(datr)\n"
   ]
  },
  {
   "cell_type": "code",
   "execution_count": null,
   "metadata": {},
   "outputs": [],
   "source": []
  },
  {
   "cell_type": "code",
   "execution_count": null,
   "metadata": {},
   "outputs": [],
   "source": []
  },
  {
   "cell_type": "code",
   "execution_count": null,
   "metadata": {},
   "outputs": [],
   "source": []
  },
  {
   "cell_type": "code",
   "execution_count": null,
   "metadata": {},
   "outputs": [],
   "source": []
  },
  {
   "cell_type": "code",
   "execution_count": null,
   "metadata": {},
   "outputs": [],
   "source": []
  }
 ],
 "metadata": {
  "kernelspec": {
   "display_name": "Python 3",
   "language": "python",
   "name": "python3"
  },
  "language_info": {
   "codemirror_mode": {
    "name": "ipython",
    "version": 3
   },
   "file_extension": ".py",
   "mimetype": "text/x-python",
   "name": "python",
   "nbconvert_exporter": "python",
   "pygments_lexer": "ipython3",
   "version": "3.6.4"
  }
 },
 "nbformat": 4,
 "nbformat_minor": 2
}
